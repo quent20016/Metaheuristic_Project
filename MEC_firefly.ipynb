{
 "cells": [
  {
   "cell_type": "markdown",
   "metadata": {},
   "source": [
    "# Multi-Objective Resource Allocation Method for IoT applications in the context of Mobile Edge Computing (MEC)"
   ]
  },
  {
   "cell_type": "markdown",
   "metadata": {},
   "source": [
    "## Dépendances\n",
    "Import des dépendances Python nécessaires au projet."
   ]
  },
  {
   "cell_type": "code",
   "execution_count": 1,
   "metadata": {},
   "outputs": [],
   "source": [
    "import numpy as np"
   ]
  },
  {
   "cell_type": "markdown",
   "metadata": {},
   "source": [
    "## Dataset\n",
    "Cette partie décrit le dataset et les données utilisées pour répondre au problème décrit plus bas."
   ]
  },
  {
   "cell_type": "markdown",
   "metadata": {},
   "source": [
    "## <p style=\"color:red;\">Partie à remplacer par le vrai dataset de Kaggle</p>"
   ]
  },
  {
   "cell_type": "code",
   "execution_count": null,
   "metadata": {},
   "outputs": [],
   "source": [
    "# Définition des variables\n",
    "n_taches = 10  # Nombre de tâches\n",
    "n_noeuds = 4  # Nombre de nœuds de calcul\n",
    "\n",
    "# Capacités de traitement maximales\n",
    "C = np.array([10, 12, 8, 15])\n",
    "\n",
    "# Puissance consommée par tâche\n",
    "P = np.random.rand(n_taches, n_noeuds)\n",
    "\n",
    "# Temps de processing par tâche\n",
    "t = np.random.rand(n_taches, n_noeuds)\n",
    "\n",
    "# Charge de travail par tâche\n",
    "w = np.random.rand(n_taches)\n",
    "\n",
    "# Paramètres de l'algorithme Firefly\n",
    "alpha = 0.5  # Coefficient d'absorption\n",
    "beta = 0.2  # Coefficient de randomisation\n",
    "gamma = 1.0  # Facteur d'atténuation\n"
   ]
  },
  {
   "cell_type": "markdown",
   "metadata": {},
   "source": [
    "## Définition du problème dans le code"
   ]
  },
  {
   "cell_type": "markdown",
   "metadata": {},
   "source": [
    "Définition des fonctions objectives.\\\n",
    "On se place donc dans le cas d'un problème multi-objectifs."
   ]
  },
  {
   "cell_type": "code",
   "execution_count": null,
   "metadata": {},
   "outputs": [],
   "source": [
    "# Fonction objectif 1: Minimiser la consommation d'énergie totale\n",
    "def f1(x):\n",
    "    x_reshaped = x.reshape((n_taches, n_noeuds))\n",
    "    return np.sum(P * t * x_reshaped)\n",
    "\n",
    "# Fonction objectif 2: Minimiser le temps d'exécution total\n",
    "def f2(x):\n",
    "    x_reshaped = x.reshape((n_taches, n_noeuds))\n",
    "    return np.sum(t * x_reshaped)\n",
    "\n",
    "# Fonction objectif 3: Minimiser l'équilibre de charge des serveurs\n",
    "# def f3(x):\n",
    "#     x_reshaped = x.reshape((n_taches, n_noeuds))\n",
    "#     return np.sum(t + x_reshaped)"
   ]
  },
  {
   "cell_type": "markdown",
   "metadata": {},
   "source": [
    "### Définition des contraintes"
   ]
  },
  {
   "cell_type": "code",
   "execution_count": null,
   "metadata": {},
   "outputs": [],
   "source": [
    "def constraint1(x):\n",
    "    # Le nombre de vm obtenue par iot ne doit pas exceder le nombre de machines inactive sur le serveur\n",
    "    return np.array([np.sum(x[i::n_noeuds]) for i in range(n_taches)]) - 1\n",
    "\n",
    "def constraint2(x):\n",
    "    # La capacité de traitement maximale de chaque nœud ne doit pas être dépassée\n",
    "    return C - np.dot(w, x.reshape((n_taches, n_noeuds)))"
   ]
  },
  {
   "cell_type": "markdown",
   "metadata": {},
   "source": [
    "### Fonctions Objectifs"
   ]
  },
  {
   "cell_type": "code",
   "execution_count": null,
   "metadata": {},
   "outputs": [],
   "source": [
    "def f1_energy(position):\n",
    "    return np.sum(position * demandes_taches * capacites_serveurs)\n",
    "\n",
    "def f2_time(position):\n",
    "    return np.max(np.sum(position * demandes_taches, axis=1))"
   ]
  },
  {
   "cell_type": "code",
   "execution_count": null,
   "metadata": {},
   "outputs": [],
   "source": [
    "#Contraintes\n",
    "\n",
    "def c1_resources(position):\n",
    "    pass\n",
    "\n",
    "def c2_nbVM(position):\n",
    "    pass"
   ]
  },
  {
   "cell_type": "code",
   "execution_count": null,
   "metadata": {},
   "outputs": [],
   "source": [
    "def fitness(position, w1, w2):\n",
    "  # Consommation d'énergie\n",
    "  energie = f1_energy(position)\n",
    "\n",
    "  # Temps d'exécution\n",
    "  temps = f2_time(position)\n",
    "\n",
    "  # Fonction multiobjectives pondérée (c'est comme ça qu'on rend firefly multi-objectif)\n",
    "  return w1 * energie + w2 * temps\n"
   ]
  },
  {
   "cell_type": "code",
   "execution_count": null,
   "metadata": {},
   "outputs": [],
   "source": [
    "def validation(position):\n",
    "  # Contrainte de ressources\n",
    "  for i in range(n_serveurs):\n",
    "    if np.sum(position[:, i] * demandes_taches) > capacites_serveurs[i]:\n",
    "      return False\n",
    "\n",
    "  # Contrainte de VM\n",
    "  nb_vm_par_serveur = np.sum(position, axis=0)\n",
    "  for i in range(n_serveurs):\n",
    "    if nb_vm_par_serveur[i] > nb_vm_inactives[i]:\n",
    "      return False\n",
    "\n",
    "  return True\n"
   ]
  },
  {
   "cell_type": "code",
   "execution_count": null,
   "metadata": {},
   "outputs": [],
   "source": [
    "def firefly_algorithm(\n",
    "  n_taches,\n",
    "  n_serveurs,\n",
    "  capacites_serveurs,\n",
    "  demandes_taches,\n",
    "  nb_vm_inactives,\n",
    "  w1=1,\n",
    "  w2=1,\n",
    "  w3=1,\n",
    "  alpha,\n",
    "  beta,\n",
    "  gamma,\n",
    "  iterations\n",
    "  ):\n",
    "\n",
    "  \"\"\"\n",
    "  Fonction implémentant l'algorithme Firefly pour l'optimisation de l'allocation de VM.\n",
    "\n",
    "  Args:\n",
    "    n_taches: Nombre de tâches.\n",
    "    n_serveurs: Nombre de serveurs.\n",
    "    capacites_serveurs: Capacités des serveurs.\n",
    "    demandes_taches: Demandes des tâches.\n",
    "    nb_vm_inactives: Nombre de VM inactives par serveur.\n",
    "    w1: Poids de la consommation d'énergie.\n",
    "    w2: Poids du temps d'exécution.\n",
    "    w3: Poids du déséquilibre de charge.\n",
    "    alpha: Coefficient d'absorption.\n",
    "    beta: Coefficient de randomisation.\n",
    "    gamma: Facteur d'atténuation.\n",
    "    iterations: Nombre d'itérations.\n",
    "\n",
    "  Returns:\n",
    "    Meilleure position des lucioles et la meilleure valeur de la fonction d'objectif.\n",
    "  \"\"\"\n",
    "\n",
    "  # Initialisation des positions des lucioles\n",
    "  positions = np.random.randint(0, 2, size=(n_taches, n_serveurs))\n",
    "\n",
    "  # Initialisation des intensités des lucioles\n",
    "  intensities = np.zeros(n_taches)\n",
    "\n",
    "  for iteration in range(iterations):\n",
    "\n",
    "    # Mise à jour des intensités des lucioles\n",
    "    intensities = np.zeros(n_taches)\n",
    "    for i in range(n_taches):\n",
    "      if validation(positions[i]):\n",
    "        intensities[i] = fitness(positions[i])\n",
    "\n",
    "    # Mise à jour des positions des lucioles\n",
    "    for i in range(n_taches):\n",
    "      if validation(positions[i]):\n",
    "        for j in range(n_serveurs):\n",
    "          for k in range(n_taches):\n",
    "            if k != i and validation(positions[i]):\n",
    "              # Calcul de la distance entre les lucioles i et k\n",
    "              distance = np.linalg.norm(positions[i] - positions[k])\n",
    "\n",
    "              # Attraction vers la luciole la plus brillante\n",
    "              attraction = alpha * intensities[k] * np.exp(-gamma * distance**2)\n",
    "\n",
    "              # Perturbation aléatoire\n",
    "              perturbation = beta * np.random.rand()\n",
    "\n",
    "              # Mise à jour de la position de la luciole\n",
    "              positions[i][j] += attraction + perturbation\n",
    "\n",
    "  # Evaluation de la meilleure solution\n",
    "  best_position = positions[np.argmin(intensities)]\n",
    "  best_fitness = fitness(best_position)\n",
    "\n",
    "  return best_position, best_fitness\n",
    "\n"
   ]
  }
 ],
 "metadata": {
  "kernelspec": {
   "display_name": "Python 3",
   "language": "python",
   "name": "python3"
  },
  "language_info": {
   "codemirror_mode": {
    "name": "ipython",
    "version": 3
   },
   "file_extension": ".py",
   "mimetype": "text/x-python",
   "name": "python",
   "nbconvert_exporter": "python",
   "pygments_lexer": "ipython3",
   "version": "3.11.8"
  }
 },
 "nbformat": 4,
 "nbformat_minor": 2
}
