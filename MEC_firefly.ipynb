{
 "cells": [
  {
   "cell_type": "markdown",
   "metadata": {
    "pycharm": {
     "name": "#%% md\n"
    }
   },
   "source": [
    "# Multi-Objective Resource Allocation Method for IoT applications in the context of Mobile Edge Computing (MEC)"
   ]
  },
  {
   "cell_type": "markdown",
   "metadata": {
    "pycharm": {
     "name": "#%% md\n"
    }
   },
   "source": [
    "## Dépendances\n",
    "Import des dépendances Python nécessaires au projet."
   ]
  },
  {
   "cell_type": "code",
   "execution_count": 154,
   "metadata": {
    "pycharm": {
     "name": "#%%\n"
    }
   },
   "outputs": [],
   "source": [
    "import numpy as np"
   ]
  },
  {
   "cell_type": "markdown",
   "metadata": {
    "pycharm": {
     "name": "#%% md\n"
    }
   },
   "source": [
    "## Dataset\n",
    "Cette partie décrit le dataset et les données utilisées pour répondre au problème décrit plus bas."
   ]
  },
  {
   "cell_type": "markdown",
   "metadata": {
    "pycharm": {
     "name": "#%% md\n"
    }
   },
   "source": [
    "## <p style=\"color:red;\">Partie à remplacer par le vrai dataset de Kaggle</p>"
   ]
  },
  {
   "cell_type": "markdown",
   "metadata": {
    "collapsed": false,
    "pycharm": {
     "name": "#%% md\n"
    }
   },
   "source": [
    "Données en fonction d’autres données :\n",
    "- $TE_m=TM_m+TW_m+TB_m$ le temps total de complétion d’une tâche $atn_m$\n",
    "- $TM_m$ \n",
    "- $TW_m$\n",
    "- $TB_m$\n",
    "- $msu_n$ la moyenne de l’utilisation du serveur $men_n$\n",
    "- $ZYS$ le compte total des VMs occupées (tous serveurs)\n",
    "- $MSU$ la variance de l’équilibre de charge des serveurs \n",
    "- $wnt_n$ le temps maximum de complétion d’une tâche par le serveur $men_n$\n",
    "- $ECB$ la consommation d’énergie pour un serveur $men_n$ en fonctionnement\n",
    "- $ECF$ la consommation pour toutes les VMs occupées\n",
    "- $ECK$ la consommation pour toutes les VMs inoccupées\n",
    "- $EC$ la consommation totale d’énergie par le set de serveurs $MEN$"
   ]
  },
  {
   "cell_type": "markdown",
   "metadata": {
    "collapsed": false,
    "pycharm": {
     "name": "#%% md\n"
    }
   },
   "source": [
    "#### Constantes pour le Load Balancing"
   ]
  },
  {
   "cell_type": "code",
   "execution_count": 155,
   "metadata": {
    "collapsed": false,
    "pycharm": {
     "name": "#%%\n"
    }
   },
   "outputs": [],
   "source": [
    "# taille des VMs découlent de la taille de la tâche.\n",
    "\n",
    "# nombre de VMs par serveurs déjà exprimé dans la RAS"
   ]
  },
  {
   "cell_type": "markdown",
   "metadata": {
    "collapsed": false,
    "pycharm": {
     "name": "#%% md\n"
    }
   },
   "source": [
    "#### Constantes pour le temps de complétion des tâches\n",
    "<p style=\"color:red;\">Peut être à transformer en matrice pour que chaque tâche ait une taille différente...</p>"
   ]
  },
  {
   "cell_type": "code",
   "execution_count": 156,
   "metadata": {
    "collapsed": false,
    "pycharm": {
     "name": "#%%\n"
    }
   },
   "outputs": [],
   "source": [
    "# Taille de la tâche en unités de données\n",
    "G = 5  # = RG = GR\n",
    "wk = {0:0.75, 1:1.25, 2:0.3} # Bande passante selon le cas j = 0, 1, 2\n",
    "wnt = []"
   ]
  },
  {
   "cell_type": "markdown",
   "metadata": {
    "collapsed": false,
    "pycharm": {
     "name": "#%% md\n"
    }
   },
   "source": [
    "#### Constantes pour la consommation d'énergie"
   ]
  },
  {
   "cell_type": "code",
   "execution_count": 157,
   "metadata": {
    "collapsed": false,
    "pycharm": {
     "name": "#%%\n"
    }
   },
   "outputs": [],
   "source": [
    "# Constantes pour la consommation d'énergie\n",
    "rx = 0.2 # Wattage d'un serveur allumé\n",
    "rf = 0.125 # Wattage d'une VM occupée\n",
    "rn = 0.5 # Wattage d'une VM non occupée"
   ]
  },
  {
   "cell_type": "markdown",
   "metadata": {
    "collapsed": false,
    "pycharm": {
     "name": "#%% md\n"
    }
   },
   "source": [
    "### Matrices/Opérateurs\n",
    "- Serveur $men_n$ occupé ou non (1/0) : $c(men_n)$\n",
    "- Tâche $atn_n$ lancée sur le serveur $men_m$ ou non (1/0) : $\\phi(atn_n)$"
   ]
  },
  {
   "cell_type": "code",
   "execution_count": 158,
   "metadata": {
    "collapsed": false,
    "pycharm": {
     "name": "#%%\n"
    }
   },
   "outputs": [],
   "source": [
    "# Opérateurs C, S et phi à implémenter\n",
    "C = 0 # 1 si le serveur est occupé ou 0 sinon\n",
    "phi = 0 # 1 si la vm tourne sur le serveur ou 0 sinon\n",
    "S = 5"
   ]
  },
  {
   "cell_type": "markdown",
   "metadata": {
    "collapsed": false,
    "pycharm": {
     "name": "#%% md\n"
    }
   },
   "source": [
    "### Paramètres expérimentaux\n",
    ">On considère qu'une application ne génère qu'une seule tâche. Le nombre de tâches est donc directement corellé avec le nombre d'applications IoT."
   ]
  },
  {
   "cell_type": "code",
   "execution_count": 159,
   "metadata": {
    "collapsed": false,
    "pycharm": {
     "name": "#%%\n"
    }
   },
   "outputs": [],
   "source": [
    "# Paramètre de nombre d'applications IoT\n",
    "nb_app = [50, 100, 150, 200, 250]\n",
    "# Paramètre de nombre de serveurs MEC\n",
    "nb_serv = 15\n",
    "# Paramètre du nombre de VM par serveur MEC\n",
    "nb_vm = 8\n",
    "# Paramètre de la quantité de VM nécessaire par application\n",
    "vm_cost = np.random.randint(1, 10, size=nb_app[0])\n",
    "# Paramètre de la taille de la VM à exécuter\n",
    "size_vm = 5"
   ]
  },
  {
   "cell_type": "markdown",
   "metadata": {
    "collapsed": false,
    "pycharm": {
     "name": "#%% md\n"
    }
   },
   "source": [
    "### Constantes"
   ]
  },
  {
   "cell_type": "code",
   "execution_count": 160,
   "metadata": {
    "collapsed": false,
    "pycharm": {
     "name": "#%%\n"
    }
   },
   "outputs": [],
   "source": [
    "# Wattage des serveurs\n",
    "pr_serv = 350\n",
    "# Wattage des VM occupées\n",
    "pr_ovm = 75\n",
    "# Wattage des VM inoccupées\n",
    "pr_uvm = 45"
   ]
  },
  {
   "cell_type": "markdown",
   "metadata": {
    "collapsed": false,
    "pycharm": {
     "name": "#%% md\n"
    }
   },
   "source": [
    "## Définition du problème dans le code"
   ]
  },
  {
   "cell_type": "markdown",
   "metadata": {
    "collapsed": false,
    "pycharm": {
     "name": "#%% md\n"
    }
   },
   "source": [
    "### Définition des contraintes"
   ]
  },
  {
   "cell_type": "markdown",
   "metadata": {
    "collapsed": false,
    "pycharm": {
     "name": "#%% md\n"
    }
   },
   "source": [
    "### Définition des Fonctions Objectifs"
   ]
  },
  {
   "cell_type": "markdown",
   "metadata": {
    "collapsed": false,
    "pycharm": {
     "name": "#%% md\n"
    }
   },
   "source": [
    "## Implémentation de Firefly"
   ]
  },
  {
   "cell_type": "markdown",
   "metadata": {
    "collapsed": false,
    "pycharm": {
     "name": "#%% md\n"
    }
   },
   "source": [
    "### Paramètres de Firefly"
   ]
  },
  {
   "cell_type": "code",
   "execution_count": null,
   "metadata": {
    "collapsed": false,
    "pycharm": {
     "name": "#%%\n"
    }
   },
   "outputs": [],
   "source": []
  },
  {
   "cell_type": "markdown",
   "metadata": {
    "pycharm": {
     "name": "#%% md\n"
    }
   },
   "source": [
    "### Algorithme"
   ]
  },
  {
   "cell_type": "code",
   "execution_count": 161,
   "metadata": {
    "pycharm": {
     "name": "#%%\n"
    }
   },
   "outputs": [],
   "source": [
    "def fitness(position,vm_cost , w1, w2, w3):\n",
    "\n",
    "  # Calcul des fonctions objectifs\n",
    "  TE, MSU, EC = 0, 0, 0\n",
    "  ZYS = 0\n",
    "  msu_list = []\n",
    "  # On commence par calculer pour chaque serveur :\n",
    "\n",
    "  \n",
    "  for n in range(nb_serv):\n",
    "    # Liste des temps de complétion de tâches pour le serveur n :\n",
    "    temps_compl = [0] # On y place les temps de complétion calculés pour chaque tâche pour le serveur n\n",
    "    msu_n = 0 # Load balancing pour le serveur n\n",
    "\n",
    "    # Parcours des tâches assignées à chaque serveur\n",
    "    for m in range(nb_app[0]):\n",
    "      # On récupère le coût en VMs de la tâche m dans la matrice tasks_assign\n",
    "      VM_cost = vm_cost[m]\n",
    "      \n",
    "      # Si la tâche n'est pas assignée au serveur n, on passe à la tâche suivante\n",
    "      if VM_cost == 0:\n",
    "        continue\n",
    "\n",
    "      # Si VM_cost < nb_vm, on peut exécuter la tâche sur le serveur n exclusivement\n",
    "      if VM_cost < nb_vm:\n",
    "        j = 0\n",
    "      # Si VM_cost >= nb_vm et VM_cost < nb_serv*nb_vm, on peut exécuter la tâche sur le serveur n et d'autres serveurs\n",
    "      elif VM_cost >= nb_vm and VM_cost < nb_serv*nb_vm:\n",
    "        j = 1\n",
    "      else:\n",
    "        j = 2\n",
    "\n",
    "      # Calcul du temps de récupération de la tâche.\n",
    "      TM_m = 0\n",
    "      if j == 0:\n",
    "        TM_m = G / wk[0] # Temps de complétion de la tâche m sur le serveur n, en assumant que la tâche est de taille G\n",
    "      elif j == 1:\n",
    "        TM_m = G / wk[0] + G / wk[1] # Temps de complétion de la tâche m sur le serveur n, en assumant que la tâche est de taille G\n",
    "      else:\n",
    "        TM_m = G / wk[0] + G / wk[1] + G / wk[2] # Temps de complétion de la tâche m sur le serveur n, en assumant que la tâche est de taille G\n",
    "\n",
    "      # Calcul du temps de retour de la tâche.\n",
    "      TB_m = 0\n",
    "      if j == 0:\n",
    "        TB_m = G / wk[0] # Temps de complétion de la tâche m sur le serveur n, en assumant que la tâche est de taille G\n",
    "      elif j == 1:\n",
    "        TB_m = G / wk[0] + G / wk[1]\n",
    "      else:\n",
    "        TB_m = G / wk[0] + G / wk[1] + G / wk[2]\n",
    "\n",
    "      # Calcul du temps de complétion de la tâche m sur le serveur n\n",
    "      TW_m = G / S # Temps de complétion de la tâche m sur le serveur n, en assumant que la tâche est de taille G et que le serveur a une puissance de calcul S\n",
    "      temps_compl.append(TW_m)\n",
    "\n",
    "      TE += (TM_m + TB_m + TW_m)\n",
    "\n",
    "      # Calcul de la variance du load balancing\n",
    "      def phi(position):\n",
    "        if position == 0:\n",
    "          return 0\n",
    "        else:\n",
    "          return 1\n",
    "      msu_n += (1/nb_vm)*phi(position[m, n]) # Load balancing pour le serveur n et la tâche m\n",
    "      \n",
    "    # FIN BOUCLE TÂCHES\n",
    "    # On sauve la msu_n \n",
    "    msu_list.append(msu_n)\n",
    "    ZYS += (1/nb_serv)*msu_n # Compte total des VMs occupées par les tâches assignées à chaque serveur\n",
    "\n",
    "    # Maintenant que les temps de complétion ont été calculés, on prend le max pour le serveur n\n",
    "    max_temps = np.max(temps_compl)\n",
    "    ECB_n = max_temps*pr_serv\n",
    "    ECF_n = 0\n",
    "    pECK_n = 0\n",
    "    # On calcule la consommation d'énergie pour le serveur n en parcourant les tâches assignées\n",
    "    for m in range(nb_app[0]):\n",
    "      VM_cost = vm_cost[m]\n",
    "      if VM_cost == 0:\n",
    "        continue\n",
    "\n",
    "      \n",
    "      ECF_n += max_temps*pr_ovm*phi(position[m, n])\n",
    "      pECK_n += max_temps*pr_uvm*phi(position[m, n])\n",
    "    \n",
    "    ECK_n = ZYS - pECK_n\n",
    "    EC += (ECF_n + ECK_n + ECB_n)\n",
    "  \n",
    "  # On parcours la liste des msu pour calculer la variance\n",
    "  for msu in msu_list:\n",
    "    MSU += (1/nb_serv)*((msu - ZYS)**2)\n",
    "\n",
    "  # print(\"===Début solution===\")\n",
    "  # print (\"Variance de load balancing calculée : \", MSU)\n",
    "  # print (\"Temps d'exécution total : \", TE)\n",
    "  # print (\"Consommation d'énergie totale : \", EC)\n",
    "  # print(\"===Fin solution===\")\n",
    "\n",
    "  # Fonction multiobjectives pondérée (c'est comme ça qu'on rend firefly multi-objectif)\n",
    "  return w1 * TE + w2 * MSU + w3 * EC, MSU, TE, EC\n",
    "\n",
    "\n"
   ]
  },
  {
   "cell_type": "code",
   "execution_count": 162,
   "metadata": {},
   "outputs": [],
   "source": [
    "def allocation_taches_serveurs(nb_taches, nb_serveurs, nb_vms_par_serveur):\n",
    "    # On assigne aléatoirement les tâches aux serveurs \n",
    "    # 0 = tâche non assignée, 1 = tâche assignée\n",
    "\n",
    "    # On crée une matrice de taille nb_taches x nb_serveurs\n",
    "    position = np.zeros((nb_taches, nb_serveurs))\n",
    "\n",
    "    # On assigne les tâches aux serveurs\n",
    "    for i in range(nb_taches):\n",
    "        # On tire un nombre aléatoire entre 0 et nb_serveurs\n",
    "        serveur = np.random.randint(0, nb_serveurs)\n",
    "        position[i, serveur] = 1\n",
    "\n",
    "    return position\n",
    "\n"
   ]
  },
  {
   "cell_type": "code",
   "execution_count": 163,
   "metadata": {},
   "outputs": [],
   "source": [
    "class FireflyAlgorithmMultiObjective:\n",
    "    def __init__(self, fitness_func=fitness,\n",
    "                dim=(nb_app[0],nb_serv),\n",
    "                n_fireflies=50,\n",
    "                max_iter=100,\n",
    "                alpha=0.2,\n",
    "                beta0=1,\n",
    "                gamma=1,\n",
    "                delta=1,\n",
    "                lower_bound=None,\n",
    "                upper_bound=None,\n",
    "                vm_cost = np.random.randint(1, 7, size=nb_app[0]),\n",
    "                w1 = 1,\n",
    "                w2 = 1,\n",
    "                w3 = 1\n",
    "                ):\n",
    "        self.fitness_func = fitness_func\n",
    "        self.dim = dim \n",
    "        self.n_fireflies = n_fireflies\n",
    "        self.max_iter = max_iter\n",
    "        self.alpha = alpha\n",
    "        self.beta0 = beta0\n",
    "        self.gamma = gamma\n",
    "        self.delta = delta\n",
    "        self.lower_bound = lower_bound if lower_bound is not None else np.zeros(dim)\n",
    "        self.upper_bound = upper_bound if upper_bound is not None else np.ones(dim)\n",
    "        self.vm_cost = vm_cost\n",
    "        self.w1 = w1\n",
    "        self.w2 = w2\n",
    "        self.w3 = w3\n",
    "        \n",
    "        self.population = [allocation_taches_serveurs(nb_app[0], nb_serv, nb_vm) for _ in range(n_fireflies) ]\n",
    "        self.intensities = np.array([self.fitness_func(ind,self.vm_cost, self.w1, self.w2, self.w3)[0] for ind in self.population])\n",
    "        print(self.intensities)\n",
    "\n",
    "        self.MSU = np.array([self.fitness_func(ind,self.vm_cost, self.w1, self.w2, self.w3)[1] for ind in self.population])\n",
    "        self.TE = np.array([self.fitness_func(ind,self.vm_cost, self.w1, self.w2, self.w3)[2] for ind in self.population])\n",
    "        self.EC = np.array([self.fitness_func(ind,self.vm_cost, self.w1, self.w2, self.w3)[3] for ind in self.population])\n",
    "        self.non_dominated_archive = self.identify_non_dominated(self.population, self.MSU, self.TE, self.EC)\n",
    "        \n",
    "    def identify_non_dominated(self, population, MSU, TE, EC):\n",
    "        non_dominated_archive = []\n",
    "        for i in range(len(population)):\n",
    "            dominated = False\n",
    "            for j in range(len(population)):\n",
    "                if all(MSU[j] <= MSU[i]) and any(MSU[j] < MSU[i]) and all(TE[j] <= TE[i]) and any(TE[j] < TE[i]) and all(EC[j] <= EC[i]) and any(EC[j] < EC[i]):\n",
    "                    dominated = True\n",
    "                    break\n",
    "            if not dominated:\n",
    "                non_dominated_archive.append(i)\n",
    "        return non_dominated_archive\n",
    "        \n",
    "    def move_firefly(self, source, target):\n",
    "        distance = np.linalg.norm(source - target)\n",
    "        beta = self.beta0 * np.exp(-self.gamma * distance**2)\n",
    "        new_position = source + beta * (target - source) + self.alpha * (np.random.rand(self.dim) - 0.5)\n",
    "        return np.clip(new_position, self.lower_bound, self.upper_bound)\n",
    "    \n",
    "    def update_non_dominated_archive(self):\n",
    "        new_population = np.copy(self.population)\n",
    "        new_intensities = np.copy(self.intensities)\n",
    "        \n",
    "        for i in range(self.n_fireflies):\n",
    "            for j in range(self.n_fireflies):\n",
    "                if i in self.non_dominated_archive or j in self.non_dominated_archive:\n",
    "                    if all(self.MSU[j] <= self.MSU[i]) and any(self.MSU[j] < self.MSU[i]) and all(self.TE[j] <= self.TE[i]) and any(self.TE[j] < self.TE[i]) and all(self.EC[j] <= self.EC[i]) and any(self.EC[j] < self.EC[i]):\n",
    "                        self.non_dominated_archive.append(j)\n",
    "        \n",
    "        self.non_dominated_archive = list(set(self.non_dominated_archive))\n",
    "        \n",
    "    def optimize(self):\n",
    "        for t in range(self.max_iter):\n",
    "            for i in range(self.n_fireflies):\n",
    "                for j in range(self.n_fireflies):\n",
    "                    if self.intensities[i] > self.intensities[j]:\n",
    "                        self.population[i] = self.move_firefly(self.population[i], self.population[j])\n",
    "                        self.intensities[i], self.MSU[i], self.TE[i], self.EC[i] = self.fitness_func(self.population[i],self.vm_cost, self.w1, self.w2, self.w3)\n",
    "            self.update_non_dominated_archive()\n",
    "            self.alpha *= self.delta\n",
    "        return self.population[self.non_dominated_archive], self.intensities[self.non_dominated_archive]\n",
    "\n"
   ]
  },
  {
   "cell_type": "code",
   "execution_count": 164,
   "metadata": {},
   "outputs": [
    {
     "name": "stdout",
     "output_type": "stream",
     "text": [
      "[5742.76083333 5742.48020833 5742.35729167 5742.77395833 5742.79\n",
      " 5742.62708333 5742.7925     5742.86229167 5742.60479167 5742.67125\n",
      " 5742.76583333 5742.53458333 5742.5875     5742.77208333 5742.52895833\n",
      " 5742.57229167 5742.79458333 5742.53229167 5742.834375   5742.496875\n",
      " 5742.56604167 5742.465      5742.67708333 5742.58729167 5742.725     ]\n"
     ]
    },
    {
     "ename": "TypeError",
     "evalue": "FireflyAlgorithmMultiObjective.identify_non_dominated() missing 2 required positional arguments: 'TE' and 'EC'",
     "output_type": "error",
     "traceback": [
      "\u001b[1;31m---------------------------------------------------------------------------\u001b[0m",
      "\u001b[1;31mTypeError\u001b[0m                                 Traceback (most recent call last)",
      "Cell \u001b[1;32mIn[164], line 12\u001b[0m\n\u001b[0;32m      9\u001b[0m beta \u001b[38;5;241m=\u001b[39m \u001b[38;5;241m0.6\u001b[39m  \u001b[38;5;66;03m# Coefficient de randomisation\u001b[39;00m\n\u001b[0;32m     10\u001b[0m gamma \u001b[38;5;241m=\u001b[39m \u001b[38;5;241m1.0\u001b[39m  \u001b[38;5;66;03m# Facteur d'atténuation\u001b[39;00m\n\u001b[1;32m---> 12\u001b[0m fa \u001b[38;5;241m=\u001b[39m \u001b[43mFireflyAlgorithmMultiObjective\u001b[49m\u001b[43m(\u001b[49m\u001b[43mn_fireflies\u001b[49m\u001b[38;5;241;43m=\u001b[39;49m\u001b[43mnb_fireflies\u001b[49m\u001b[43m,\u001b[49m\u001b[43m \u001b[49m\u001b[43mmax_iter\u001b[49m\u001b[38;5;241;43m=\u001b[39;49m\u001b[43mnb_iterations\u001b[49m\u001b[43m,\u001b[49m\u001b[43m \u001b[49m\u001b[43malpha\u001b[49m\u001b[38;5;241;43m=\u001b[39;49m\u001b[43malpha\u001b[49m\u001b[43m,\u001b[49m\u001b[43m \u001b[49m\u001b[43mbeta0\u001b[49m\u001b[38;5;241;43m=\u001b[39;49m\u001b[43mbeta\u001b[49m\u001b[43m,\u001b[49m\u001b[43m \u001b[49m\u001b[43mgamma\u001b[49m\u001b[38;5;241;43m=\u001b[39;49m\u001b[43mgamma\u001b[49m\u001b[43m,\u001b[49m\u001b[43mvm_cost\u001b[49m\u001b[38;5;241;43m=\u001b[39;49m\u001b[43mvm_cost\u001b[49m\u001b[43m,\u001b[49m\u001b[43m \u001b[49m\u001b[43mw1\u001b[49m\u001b[38;5;241;43m=\u001b[39;49m\u001b[43mw1\u001b[49m\u001b[43m,\u001b[49m\u001b[43m \u001b[49m\u001b[43mw2\u001b[49m\u001b[38;5;241;43m=\u001b[39;49m\u001b[43mw2\u001b[49m\u001b[43m,\u001b[49m\u001b[43m \u001b[49m\u001b[43mw3\u001b[49m\u001b[38;5;241;43m=\u001b[39;49m\u001b[43mw3\u001b[49m\u001b[43m)\u001b[49m\n\u001b[0;32m     13\u001b[0m solution, intensities \u001b[38;5;241m=\u001b[39m fa\u001b[38;5;241m.\u001b[39moptimize()\n",
      "Cell \u001b[1;32mIn[163], line 39\u001b[0m, in \u001b[0;36mFireflyAlgorithmMultiObjective.__init__\u001b[1;34m(self, fitness_func, dim, n_fireflies, max_iter, alpha, beta0, gamma, delta, lower_bound, upper_bound, vm_cost, w1, w2, w3)\u001b[0m\n\u001b[0;32m     37\u001b[0m \u001b[38;5;28mself\u001b[39m\u001b[38;5;241m.\u001b[39mTE \u001b[38;5;241m=\u001b[39m np\u001b[38;5;241m.\u001b[39marray([\u001b[38;5;28mself\u001b[39m\u001b[38;5;241m.\u001b[39mfitness_func(ind,\u001b[38;5;28mself\u001b[39m\u001b[38;5;241m.\u001b[39mvm_cost, \u001b[38;5;28mself\u001b[39m\u001b[38;5;241m.\u001b[39mw1, \u001b[38;5;28mself\u001b[39m\u001b[38;5;241m.\u001b[39mw2, \u001b[38;5;28mself\u001b[39m\u001b[38;5;241m.\u001b[39mw3)[\u001b[38;5;241m2\u001b[39m] \u001b[38;5;28;01mfor\u001b[39;00m ind \u001b[38;5;129;01min\u001b[39;00m \u001b[38;5;28mself\u001b[39m\u001b[38;5;241m.\u001b[39mpopulation])\n\u001b[0;32m     38\u001b[0m \u001b[38;5;28mself\u001b[39m\u001b[38;5;241m.\u001b[39mEC \u001b[38;5;241m=\u001b[39m np\u001b[38;5;241m.\u001b[39marray([\u001b[38;5;28mself\u001b[39m\u001b[38;5;241m.\u001b[39mfitness_func(ind,\u001b[38;5;28mself\u001b[39m\u001b[38;5;241m.\u001b[39mvm_cost, \u001b[38;5;28mself\u001b[39m\u001b[38;5;241m.\u001b[39mw1, \u001b[38;5;28mself\u001b[39m\u001b[38;5;241m.\u001b[39mw2, \u001b[38;5;28mself\u001b[39m\u001b[38;5;241m.\u001b[39mw3)[\u001b[38;5;241m3\u001b[39m] \u001b[38;5;28;01mfor\u001b[39;00m ind \u001b[38;5;129;01min\u001b[39;00m \u001b[38;5;28mself\u001b[39m\u001b[38;5;241m.\u001b[39mpopulation])\n\u001b[1;32m---> 39\u001b[0m \u001b[38;5;28mself\u001b[39m\u001b[38;5;241m.\u001b[39mnon_dominated_archive \u001b[38;5;241m=\u001b[39m \u001b[38;5;28;43mself\u001b[39;49m\u001b[38;5;241;43m.\u001b[39;49m\u001b[43midentify_non_dominated\u001b[49m\u001b[43m(\u001b[49m\u001b[38;5;28;43mself\u001b[39;49m\u001b[38;5;241;43m.\u001b[39;49m\u001b[43mpopulation\u001b[49m\u001b[43m,\u001b[49m\u001b[43m \u001b[49m\u001b[38;5;28;43mself\u001b[39;49m\u001b[38;5;241;43m.\u001b[39;49m\u001b[43mintensities\u001b[49m\u001b[43m)\u001b[49m\n",
      "\u001b[1;31mTypeError\u001b[0m: FireflyAlgorithmMultiObjective.identify_non_dominated() missing 2 required positional arguments: 'TE' and 'EC'"
     ]
    }
   ],
   "source": [
    "# Test\n",
    "nb_fireflies = 25\n",
    "nb_iterations = 100\n",
    "w1 = 0.2\n",
    "w2 = 0.3\n",
    "w3 = 0.5\n",
    "# Paramètres de l'algorithme Firefly\n",
    "alpha = 0.5  # Coefficient d'absorption\n",
    "beta = 0.6  # Coefficient de randomisation\n",
    "gamma = 1.0  # Facteur d'atténuation\n",
    "\n",
    "fa = FireflyAlgorithmMultiObjective(n_fireflies=nb_fireflies, max_iter=nb_iterations, alpha=alpha, beta0=beta, gamma=gamma,vm_cost=vm_cost, w1=w1, w2=w2, w3=w3)\n",
    "solution, intensities = fa.optimize()"
   ]
  },
  {
   "cell_type": "code",
   "execution_count": null,
   "metadata": {},
   "outputs": [
    {
     "data": {
      "image/png": "[encoded data removed]",
      "text/plain": [
       "<Figure size 640x480 with 1 Axes>"
      ]
     },
     "metadata": {},
     "output_type": "display_data"
    }
   ],
   "source": [
    "# On affiche les solutions dans un graphique 3D\n",
    "# Axes : MSU, TE, EC\n",
    "\n",
    "import matplotlib.pyplot as plt\n",
    "from mpl_toolkits.mplot3d import Axes3D\n",
    "\n",
    "fig = plt.figure()\n",
    "ax = fig.add_subplot(111, projection='3d')\n",
    "\n",
    "ax.scatter(MSUs, TEs, ECs)\n",
    "\n",
    "ax.set_xlabel('MSU')\n",
    "ax.set_ylabel('TE')\n",
    "ax.set_zlabel('EC')\n",
    "\n",
    "plt.show()"
   ]
  },
  {
   "cell_type": "code",
   "execution_count": null,
   "metadata": {},
   "outputs": [],
   "source": [
    "# On applique un algorithme de Pareto pour déterminer les solutions dominées et non-dominées et le front de Pareto\n",
    "# On utilise les valeurs de MSU, TE et EC pour déterminer les solutions dominées et non-dominées\n",
    "\n",
    "def pareto(MSUs, TEs, ECs):\n",
    "  # On initialise les solutions dominées et non-dominées\n",
    "  solutions_dominées = []\n",
    "  solutions_non_dominées = []\n",
    "\n",
    "  # On commence par calculer les solutions dominées\n",
    "  for i in range(len(MSUs)):\n",
    "    for j in range(len(MSUs)):\n",
    "      if i == j:\n",
    "        continue\n",
    "\n",
    "      # On compare les solutions deux à deux avec un < et <=\n",
    "      if MSUs[i] < MSUs[j] and TEs[i] <= TEs[j] and ECs[i] <= ECs[j]:\n",
    "        solutions_dominées.append(i)\n",
    "      elif MSUs[i] <= MSUs[j] and TEs[i] < TEs[j] and ECs[i] <= ECs[j]:\n",
    "        solutions_dominées.append(i)\n",
    "      elif MSUs[i] <= MSUs[j] and TEs[i] <= TEs[j] and ECs[i] < ECs[j]:\n",
    "        solutions_dominées.append(i)\n",
    "\n",
    "  # On détermine les solutions non-dominées\n",
    "  for i in range(len(MSUs)):\n",
    "    if i not in solutions_dominées:\n",
    "      solutions_non_dominées.append(i)\n",
    "\n",
    "  return solutions_dominées, solutions_non_dominées\n",
    "\n",
    "solutions_dominées, solutions_non_dominées = pareto(MSUs, TEs, ECs)"
   ]
  },
  {
   "cell_type": "code",
   "execution_count": null,
   "metadata": {},
   "outputs": [
    {
     "name": "stdout",
     "output_type": "stream",
     "text": [
      "[0, 1, 2, 2, 2, 2, 2, 2, 2, 3, 3, 3, 3, 3, 3, 3, 3, 3, 3, 3, 3, 3, 3, 3, 3, 4, 6, 6, 6, 6, 6, 6, 6, 6, 6, 7, 7, 8, 8, 8, 8, 8, 8, 9, 10, 10, 10, 10, 10, 10, 10, 10, 10, 10, 10, 10, 10, 10, 10, 10, 10, 10, 10, 10, 11, 11, 11, 11, 11, 11, 11, 11, 11, 11, 11, 11, 11, 12, 12, 12, 12, 12, 13, 13, 13, 13, 13, 13, 13, 13, 13, 13, 13, 14, 14, 14, 15, 16, 16, 16, 16, 16, 16, 16, 16, 16, 17, 17, 17, 17, 18, 18, 18, 18, 18, 18, 18, 18, 18, 18, 18, 18, 18, 20, 20, 21, 21, 21, 21, 21, 21, 21, 21, 21, 21, 21, 21, 22, 23, 23, 24, 24, 24, 24, 24, 24]\n",
      "[5, 19]\n"
     ]
    }
   ],
   "source": [
    "print(solutions_dominées)\n",
    "print(solutions_non_dominées)"
   ]
  },
  {
   "cell_type": "code",
   "execution_count": null,
   "metadata": {},
   "outputs": [
    {
     "data": {
      "image/png": "[encoded data removed]",
      "text/plain": [
       "<Figure size 640x480 with 1 Axes>"
      ]
     },
     "metadata": {},
     "output_type": "display_data"
    }
   ],
   "source": [
    "# On affiche les solutions dominées et non-dominées dans un graphique 3D\n",
    "# En rouge les solutions du front de Pareto et en bleu les solutions dominées\n",
    "\n",
    "fig = plt.figure()\n",
    "ax = fig.add_subplot(111, projection='3d')\n",
    "\n",
    "# On affiche les solutions dominées en bleu\n",
    "ax.scatter([MSUs[i] for i in solutions_dominées], [TEs[i] for i in solutions_dominées], [ECs[i] for i in solutions_dominées], c='blue')\n",
    "\n",
    "# On affiche les solutions non-dominées en rouge\n",
    "ax.scatter([MSUs[i] for i in solutions_non_dominées], [TEs[i] for i in solutions_non_dominées], [ECs[i] for i in solutions_non_dominées], c='red')\n",
    "\n",
    "ax.set_xlabel('MSU')\n",
    "ax.set_ylabel('TE')\n",
    "ax.set_zlabel('EC')\n",
    "\n",
    "plt.show()\n",
    "\n"
   ]
  },
  {
   "cell_type": "code",
   "execution_count": null,
   "metadata": {},
   "outputs": [
    {
     "data": {
      "application/vnd.plotly.v1+json": {
       "config": {
        "plotlyServerURL": "https://plot.ly"
       },
       "data": [
        {
         "marker": {
          "color": "blue"
         },
         "mode": "markers",
         "type": "scatter3d",
         "x": [
          0.045138888888888895,
          0.045138888888888895,
          0.045138888888888895,
          0.045138888888888895,
          0.045138888888888895,
          0.045138888888888895,
          0.045138888888888895,
          0.045138888888888895,
          0.04930555555555557,
          0.04930555555555557,
          0.04930555555555557,
          0.04930555555555557,
          0.04930555555555557,
          0.04930555555555557,
          0.04930555555555557,
          0.04930555555555557,
          0.03263888888888889,
          0.03263888888888889,
          0.03263888888888889,
          0.03263888888888889,
          0.03263888888888889,
          0.03263888888888889,
          0.03263888888888889,
          0.03263888888888889,
          0.03263888888888889,
          0.03263888888888889,
          0.03263888888888889,
          0.03263888888888889,
          0.03263888888888889,
          0.03263888888888889,
          0.051388888888888894,
          0.051388888888888894,
          0.051388888888888894,
          0.051388888888888894,
          0.051388888888888894,
          0.04722222222222222,
          0.04722222222222222,
          0.032638888888888884,
          0.032638888888888884,
          0.032638888888888884,
          0.032638888888888884,
          0.05555555555555556,
          0.05555555555555556,
          0.05555555555555556,
          0.05972222222222222,
          0.05972222222222222,
          0.05972222222222222,
          0.05972222222222222,
          0.05972222222222222,
          0.04305555555555557,
          0.04305555555555557,
          0.04305555555555557,
          0.04305555555555557,
          0.04305555555555557,
          0.04305555555555557,
          0.04305555555555557,
          0.04305555555555557,
          0.04305555555555557,
          0.02638888888888889,
          0.02638888888888889,
          0.05347222222222222,
          0.05347222222222222,
          0.05347222222222222,
          0.05347222222222222,
          0.05347222222222222,
          0.038888888888888896,
          0.030555555555555555,
          0.05972222222222222,
          0.05972222222222222,
          0.05972222222222222,
          0.05972222222222222,
          0.05347222222222223,
          0.05347222222222223,
          0.05347222222222223,
          0.05347222222222223,
          0.05347222222222223,
          0.03055555555555555,
          0.03055555555555555,
          0.03055555555555555,
          0.03055555555555555,
          0.03055555555555555,
          0.03055555555555555,
          0.03055555555555555,
          0.03055555555555555,
          0.03055555555555555,
          0.05347222222222223,
          0.05347222222222223,
          0.05347222222222223,
          0.05347222222222223,
          0.04722222222222223,
          0.04722222222222223,
          0.04722222222222223,
          0.04722222222222223,
          0.04722222222222223,
          0.04722222222222223
         ],
         "y": [
          11950.00000000008,
          11950.00000000008,
          11950.00000000008,
          11950.00000000008,
          11950.00000000008,
          11950.00000000008,
          11950.00000000008,
          11950.00000000008,
          11950.00000000008,
          11950.00000000008,
          11950.00000000008,
          11950.00000000008,
          11950.00000000008,
          11950.00000000008,
          11950.00000000008,
          11950.00000000008,
          11950.00000000008,
          11950.00000000008,
          11950.00000000008,
          11950.00000000008,
          11950.00000000008,
          11950.00000000008,
          11950.00000000008,
          11950.00000000008,
          11950.00000000008,
          11950.00000000008,
          11950.00000000008,
          11950.00000000008,
          11950.00000000008,
          11950.00000000008,
          11950.00000000008,
          11950.00000000008,
          11950.00000000008,
          11950.00000000008,
          11950.00000000008,
          11950.00000000008,
          11950.00000000008,
          11950.00000000008,
          11950.00000000008,
          11950.00000000008,
          11950.00000000008,
          11950.00000000008,
          11950.00000000008,
          11950.00000000008,
          11950.00000000008,
          11950.00000000008,
          11950.00000000008,
          11950.00000000008,
          11950.00000000008,
          11950.00000000008,
          11950.00000000008,
          11950.00000000008,
          11950.00000000008,
          11950.00000000008,
          11950.00000000008,
          11950.00000000008,
          11950.00000000008,
          11950.00000000008,
          11950.00000000008,
          11950.00000000008,
          11950.00000000008,
          11950.00000000008,
          11950.00000000008,
          11950.00000000008,
          11950.00000000008,
          11950.00000000008,
          11950.00000000008,
          11950.00000000008,
          11950.00000000008,
          11950.00000000008,
          11950.00000000008,
          11950.00000000008,
          11950.00000000008,
          11950.00000000008,
          11950.00000000008,
          11950.00000000008,
          11950.00000000008,
          11950.00000000008,
          11950.00000000008,
          11950.00000000008,
          11950.00000000008,
          11950.00000000008,
          11950.00000000008,
          11950.00000000008,
          11950.00000000008,
          11950.00000000008,
          11950.00000000008,
          11950.00000000008,
          11950.00000000008,
          11950.00000000008,
          11950.00000000008,
          11950.00000000008,
          11950.00000000008,
          11950.00000000008,
          11950.00000000008
         ],
         "z": [
          6753.2249999999985,
          6753.2249999999985,
          6753.2249999999985,
          6753.2249999999985,
          6753.2249999999985,
          6753.2249999999985,
          6753.2249999999985,
          6753.2249999999985,
          6753.15,
          6753.15,
          6753.15,
          6753.15,
          6753.15,
          6753.15,
          6753.15,
          6753.15,
          6753.183333333333,
          6753.183333333333,
          6753.183333333333,
          6753.183333333333,
          6753.183333333333,
          6753.183333333333,
          6753.183333333333,
          6753.183333333333,
          6753.183333333333,
          6753.183333333333,
          6753.183333333333,
          6753.183333333333,
          6753.183333333333,
          6753.183333333333,
          6753.275000000001,
          6753.275000000001,
          6753.275000000001,
          6753.275000000001,
          6753.275000000001,
          6753.308333333333,
          6753.308333333333,
          6753.333333333333,
          6753.333333333333,
          6753.333333333333,
          6753.333333333333,
          6753.291666666667,
          6753.291666666667,
          6753.291666666667,
          6753.083333333333,
          6753.083333333333,
          6753.083333333333,
          6753.3,
          6753.3,
          6753.208333333334,
          6753.208333333334,
          6753.208333333334,
          6753.208333333334,
          6753.208333333334,
          6753.208333333334,
          6753.208333333334,
          6753.208333333334,
          6753.208333333334,
          6753.475,
          6753.475,
          6753.191666666667,
          6753.191666666667,
          6753.191666666667,
          6753.191666666667,
          6753.191666666667,
          6753.391666666667,
          6753.466666666667,
          6752.916666666666,
          6752.916666666666,
          6752.916666666666,
          6752.916666666666,
          6753.150000000001,
          6753.150000000001,
          6753.150000000001,
          6753.150000000001,
          6753.150000000001,
          6753.3,
          6753.3,
          6753.3,
          6753.3,
          6753.3,
          6753.3,
          6753.3,
          6753.3,
          6753.3,
          6753.283333333334,
          6753.283333333334,
          6753.283333333334,
          6753.283333333334,
          6753.241666666667,
          6753.241666666667,
          6753.241666666667,
          6753.241666666667,
          6753.241666666667,
          6753.241666666667
         ]
        },
        {
         "marker": {
          "color": "red"
         },
         "mode": "markers",
         "type": "scatter3d",
         "x": [
          0.028472222222222232,
          0.036805555555555564,
          0.05972222222222222,
          0.0701388888888889,
          0.03680555555555555,
          0.0638888888888889
         ],
         "y": [
          11950.00000000008,
          11950.00000000008,
          11950.00000000008,
          11950.00000000008,
          11950.00000000008,
          11950.00000000008
         ],
         "z": [
          6753.575,
          6753.441666666667,
          6753.400000000001,
          6752.858333333333,
          6753.533333333335,
          6753.316666666667
         ]
        }
       ],
       "layout": {
        "template": {
         "data": {
          "bar": [
           {
            "error_x": {
             "color": "#2a3f5f"
            },
            "error_y": {
             "color": "#2a3f5f"
            },
            "marker": {
             "line": {
              "color": "#E5ECF6",
              "width": 0.5
             },
             "pattern": {
              "fillmode": "overlay",
              "size": 10,
              "solidity": 0.2
             }
            },
            "type": "bar"
           }
          ],
          "barpolar": [
           {
            "marker": {
             "line": {
              "color": "#E5ECF6",
              "width": 0.5
             },
             "pattern": {
              "fillmode": "overlay",
              "size": 10,
              "solidity": 0.2
             }
            },
            "type": "barpolar"
           }
          ],
          "carpet": [
           {
            "aaxis": {
             "endlinecolor": "#2a3f5f",
             "gridcolor": "white",
             "linecolor": "white",
             "minorgridcolor": "white",
             "startlinecolor": "#2a3f5f"
            },
            "baxis": {
             "endlinecolor": "#2a3f5f",
             "gridcolor": "white",
             "linecolor": "white",
             "minorgridcolor": "white",
             "startlinecolor": "#2a3f5f"
            },
            "type": "carpet"
           }
          ],
          "choropleth": [
           {
            "colorbar": {
             "outlinewidth": 0,
             "ticks": ""
            },
            "type": "choropleth"
           }
          ],
          "contour": [
           {
            "colorbar": {
             "outlinewidth": 0,
             "ticks": ""
            },
            "colorscale": [
             [
              0,
              "#0d0887"
             ],
             [
              0.1111111111111111,
              "#46039f"
             ],
             [
              0.2222222222222222,
              "#7201a8"
             ],
             [
              0.3333333333333333,
              "#9c179e"
             ],
             [
              0.4444444444444444,
              "#bd3786"
             ],
             [
              0.5555555555555556,
              "#d8576b"
             ],
             [
              0.6666666666666666,
              "#ed7953"
             ],
             [
              0.7777777777777778,
              "#fb9f3a"
             ],
             [
              0.8888888888888888,
              "#fdca26"
             ],
             [
              1,
              "#f0f921"
             ]
            ],
            "type": "contour"
           }
          ],
          "contourcarpet": [
           {
            "colorbar": {
             "outlinewidth": 0,
             "ticks": ""
            },
            "type": "contourcarpet"
           }
          ],
          "heatmap": [
           {
            "colorbar": {
             "outlinewidth": 0,
             "ticks": ""
            },
            "colorscale": [
             [
              0,
              "#0d0887"
             ],
             [
              0.1111111111111111,
              "#46039f"
             ],
             [
              0.2222222222222222,
              "#7201a8"
             ],
             [
              0.3333333333333333,
              "#9c179e"
             ],
             [
              0.4444444444444444,
              "#bd3786"
             ],
             [
              0.5555555555555556,
              "#d8576b"
             ],
             [
              0.6666666666666666,
              "#ed7953"
             ],
             [
              0.7777777777777778,
              "#fb9f3a"
             ],
             [
              0.8888888888888888,
              "#fdca26"
             ],
             [
              1,
              "#f0f921"
             ]
            ],
            "type": "heatmap"
           }
          ],
          "heatmapgl": [
           {
            "colorbar": {
             "outlinewidth": 0,
             "ticks": ""
            },
            "colorscale": [
             [
              0,
              "#0d0887"
             ],
             [
              0.1111111111111111,
              "#46039f"
             ],
             [
              0.2222222222222222,
              "#7201a8"
             ],
             [
              0.3333333333333333,
              "#9c179e"
             ],
             [
              0.4444444444444444,
              "#bd3786"
             ],
             [
              0.5555555555555556,
              "#d8576b"
             ],
             [
              0.6666666666666666,
              "#ed7953"
             ],
             [
              0.7777777777777778,
              "#fb9f3a"
             ],
             [
              0.8888888888888888,
              "#fdca26"
             ],
             [
              1,
              "#f0f921"
             ]
            ],
            "type": "heatmapgl"
           }
          ],
          "histogram": [
           {
            "marker": {
             "pattern": {
              "fillmode": "overlay",
              "size": 10,
              "solidity": 0.2
             }
            },
            "type": "histogram"
           }
          ],
          "histogram2d": [
           {
            "colorbar": {
             "outlinewidth": 0,
             "ticks": ""
            },
            "colorscale": [
             [
              0,
              "#0d0887"
             ],
             [
              0.1111111111111111,
              "#46039f"
             ],
             [
              0.2222222222222222,
              "#7201a8"
             ],
             [
              0.3333333333333333,
              "#9c179e"
             ],
             [
              0.4444444444444444,
              "#bd3786"
             ],
             [
              0.5555555555555556,
              "#d8576b"
             ],
             [
              0.6666666666666666,
              "#ed7953"
             ],
             [
              0.7777777777777778,
              "#fb9f3a"
             ],
             [
              0.8888888888888888,
              "#fdca26"
             ],
             [
              1,
              "#f0f921"
             ]
            ],
            "type": "histogram2d"
           }
          ],
          "histogram2dcontour": [
           {
            "colorbar": {
             "outlinewidth": 0,
             "ticks": ""
            },
            "colorscale": [
             [
              0,
              "#0d0887"
             ],
             [
              0.1111111111111111,
              "#46039f"
             ],
             [
              0.2222222222222222,
              "#7201a8"
             ],
             [
              0.3333333333333333,
              "#9c179e"
             ],
             [
              0.4444444444444444,
              "#bd3786"
             ],
             [
              0.5555555555555556,
              "#d8576b"
             ],
             [
              0.6666666666666666,
              "#ed7953"
             ],
             [
              0.7777777777777778,
              "#fb9f3a"
             ],
             [
              0.8888888888888888,
              "#fdca26"
             ],
             [
              1,
              "#f0f921"
             ]
            ],
            "type": "histogram2dcontour"
           }
          ],
          "mesh3d": [
           {
            "colorbar": {
             "outlinewidth": 0,
             "ticks": ""
            },
            "type": "mesh3d"
           }
          ],
          "parcoords": [
           {
            "line": {
             "colorbar": {
              "outlinewidth": 0,
              "ticks": ""
             }
            },
            "type": "parcoords"
           }
          ],
          "pie": [
           {
            "automargin": true,
            "type": "pie"
           }
          ],
          "scatter": [
           {
            "fillpattern": {
             "fillmode": "overlay",
             "size": 10,
             "solidity": 0.2
            },
            "type": "scatter"
           }
          ],
          "scatter3d": [
           {
            "line": {
             "colorbar": {
              "outlinewidth": 0,
              "ticks": ""
             }
            },
            "marker": {
             "colorbar": {
              "outlinewidth": 0,
              "ticks": ""
             }
            },
            "type": "scatter3d"
           }
          ],
          "scattercarpet": [
           {
            "marker": {
             "colorbar": {
              "outlinewidth": 0,
              "ticks": ""
             }
            },
            "type": "scattercarpet"
           }
          ],
          "scattergeo": [
           {
            "marker": {
             "colorbar": {
              "outlinewidth": 0,
              "ticks": ""
             }
            },
            "type": "scattergeo"
           }
          ],
          "scattergl": [
           {
            "marker": {
             "colorbar": {
              "outlinewidth": 0,
              "ticks": ""
             }
            },
            "type": "scattergl"
           }
          ],
          "scattermapbox": [
           {
            "marker": {
             "colorbar": {
              "outlinewidth": 0,
              "ticks": ""
             }
            },
            "type": "scattermapbox"
           }
          ],
          "scatterpolar": [
           {
            "marker": {
             "colorbar": {
              "outlinewidth": 0,
              "ticks": ""
             }
            },
            "type": "scatterpolar"
           }
          ],
          "scatterpolargl": [
           {
            "marker": {
             "colorbar": {
              "outlinewidth": 0,
              "ticks": ""
             }
            },
            "type": "scatterpolargl"
           }
          ],
          "scatterternary": [
           {
            "marker": {
             "colorbar": {
              "outlinewidth": 0,
              "ticks": ""
             }
            },
            "type": "scatterternary"
           }
          ],
          "surface": [
           {
            "colorbar": {
             "outlinewidth": 0,
             "ticks": ""
            },
            "colorscale": [
             [
              0,
              "#0d0887"
             ],
             [
              0.1111111111111111,
              "#46039f"
             ],
             [
              0.2222222222222222,
              "#7201a8"
             ],
             [
              0.3333333333333333,
              "#9c179e"
             ],
             [
              0.4444444444444444,
              "#bd3786"
             ],
             [
              0.5555555555555556,
              "#d8576b"
             ],
             [
              0.6666666666666666,
              "#ed7953"
             ],
             [
              0.7777777777777778,
              "#fb9f3a"
             ],
             [
              0.8888888888888888,
              "#fdca26"
             ],
             [
              1,
              "#f0f921"
             ]
            ],
            "type": "surface"
           }
          ],
          "table": [
           {
            "cells": {
             "fill": {
              "color": "#EBF0F8"
             },
             "line": {
              "color": "white"
             }
            },
            "header": {
             "fill": {
              "color": "#C8D4E3"
             },
             "line": {
              "color": "white"
             }
            },
            "type": "table"
           }
          ]
         },
         "layout": {
          "annotationdefaults": {
           "arrowcolor": "#2a3f5f",
           "arrowhead": 0,
           "arrowwidth": 1
          },
          "autotypenumbers": "strict",
          "coloraxis": {
           "colorbar": {
            "outlinewidth": 0,
            "ticks": ""
           }
          },
          "colorscale": {
           "diverging": [
            [
             0,
             "#8e0152"
            ],
            [
             0.1,
             "#c51b7d"
            ],
            [
             0.2,
             "#de77ae"
            ],
            [
             0.3,
             "#f1b6da"
            ],
            [
             0.4,
             "#fde0ef"
            ],
            [
             0.5,
             "#f7f7f7"
            ],
            [
             0.6,
             "#e6f5d0"
            ],
            [
             0.7,
             "#b8e186"
            ],
            [
             0.8,
             "#7fbc41"
            ],
            [
             0.9,
             "#4d9221"
            ],
            [
             1,
             "#276419"
            ]
           ],
           "sequential": [
            [
             0,
             "#0d0887"
            ],
            [
             0.1111111111111111,
             "#46039f"
            ],
            [
             0.2222222222222222,
             "#7201a8"
            ],
            [
             0.3333333333333333,
             "#9c179e"
            ],
            [
             0.4444444444444444,
             "#bd3786"
            ],
            [
             0.5555555555555556,
             "#d8576b"
            ],
            [
             0.6666666666666666,
             "#ed7953"
            ],
            [
             0.7777777777777778,
             "#fb9f3a"
            ],
            [
             0.8888888888888888,
             "#fdca26"
            ],
            [
             1,
             "#f0f921"
            ]
           ],
           "sequentialminus": [
            [
             0,
             "#0d0887"
            ],
            [
             0.1111111111111111,
             "#46039f"
            ],
            [
             0.2222222222222222,
             "#7201a8"
            ],
            [
             0.3333333333333333,
             "#9c179e"
            ],
            [
             0.4444444444444444,
             "#bd3786"
            ],
            [
             0.5555555555555556,
             "#d8576b"
            ],
            [
             0.6666666666666666,
             "#ed7953"
            ],
            [
             0.7777777777777778,
             "#fb9f3a"
            ],
            [
             0.8888888888888888,
             "#fdca26"
            ],
            [
             1,
             "#f0f921"
            ]
           ]
          },
          "colorway": [
           "#636efa",
           "#EF553B",
           "#00cc96",
           "#ab63fa",
           "#FFA15A",
           "#19d3f3",
           "#FF6692",
           "#B6E880",
           "#FF97FF",
           "#FECB52"
          ],
          "font": {
           "color": "#2a3f5f"
          },
          "geo": {
           "bgcolor": "white",
           "lakecolor": "white",
           "landcolor": "#E5ECF6",
           "showlakes": true,
           "showland": true,
           "subunitcolor": "white"
          },
          "hoverlabel": {
           "align": "left"
          },
          "hovermode": "closest",
          "mapbox": {
           "style": "light"
          },
          "paper_bgcolor": "white",
          "plot_bgcolor": "#E5ECF6",
          "polar": {
           "angularaxis": {
            "gridcolor": "white",
            "linecolor": "white",
            "ticks": ""
           },
           "bgcolor": "#E5ECF6",
           "radialaxis": {
            "gridcolor": "white",
            "linecolor": "white",
            "ticks": ""
           }
          },
          "scene": {
           "xaxis": {
            "backgroundcolor": "#E5ECF6",
            "gridcolor": "white",
            "gridwidth": 2,
            "linecolor": "white",
            "showbackground": true,
            "ticks": "",
            "zerolinecolor": "white"
           },
           "yaxis": {
            "backgroundcolor": "#E5ECF6",
            "gridcolor": "white",
            "gridwidth": 2,
            "linecolor": "white",
            "showbackground": true,
            "ticks": "",
            "zerolinecolor": "white"
           },
           "zaxis": {
            "backgroundcolor": "#E5ECF6",
            "gridcolor": "white",
            "gridwidth": 2,
            "linecolor": "white",
            "showbackground": true,
            "ticks": "",
            "zerolinecolor": "white"
           }
          },
          "shapedefaults": {
           "line": {
            "color": "#2a3f5f"
           }
          },
          "ternary": {
           "aaxis": {
            "gridcolor": "white",
            "linecolor": "white",
            "ticks": ""
           },
           "baxis": {
            "gridcolor": "white",
            "linecolor": "white",
            "ticks": ""
           },
           "bgcolor": "#E5ECF6",
           "caxis": {
            "gridcolor": "white",
            "linecolor": "white",
            "ticks": ""
           }
          },
          "title": {
           "x": 0.05
          },
          "xaxis": {
           "automargin": true,
           "gridcolor": "white",
           "linecolor": "white",
           "ticks": "",
           "title": {
            "standoff": 15
           },
           "zerolinecolor": "white",
           "zerolinewidth": 2
          },
          "yaxis": {
           "automargin": true,
           "gridcolor": "white",
           "linecolor": "white",
           "ticks": "",
           "title": {
            "standoff": 15
           },
           "zerolinecolor": "white",
           "zerolinewidth": 2
          }
         }
        }
       }
      }
     },
     "metadata": {},
     "output_type": "display_data"
    }
   ],
   "source": [
    "# On utilise graph_object pour afficher le graphique 3D\n",
    "import plotly.graph_objects as go\n",
    "\n",
    "# On affiche en rouge les solutions dominantes et les solutions non-dominantes en bleu\n",
    "fig = go.Figure(data=[go.Scatter3d(x=[MSUs[i] for i in solutions_dominées], y=[TEs[i] for i in solutions_dominées], z=[ECs[i] for i in solutions_dominées], mode='markers', marker=dict(color='blue')),\n",
    "                      go.Scatter3d(x=[MSUs[i] for i in solutions_non_dominées], y=[TEs[i] for i in solutions_non_dominées], z=[ECs[i] for i in solutions_non_dominées], mode='markers', marker=dict(color='red'))])\n",
    "\n",
    "\n",
    "fig.show()"
   ]
  }
 ],
 "metadata": {
  "kernelspec": {
   "display_name": "Python 3",
   "language": "python",
   "name": "python3"
  },
  "language_info": {
   "codemirror_mode": {
    "name": "ipython",
    "version": 3
   },
   "file_extension": ".py",
   "mimetype": "text/x-python",
   "name": "python",
   "nbconvert_exporter": "python",
   "pygments_lexer": "ipython3",
   "version": "3.11.8"
  }
 },
 "nbformat": 4,
 "nbformat_minor": 2
}
