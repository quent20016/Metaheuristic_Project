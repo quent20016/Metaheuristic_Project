{
 "cells": [
  {
   "cell_type": "markdown",
   "metadata": {
    "pycharm": {
     "name": "#%% md\n"
    }
   },
   "source": [
    "# Multi-Objective Resource Allocation Method for IoT applications in the context of Mobile Edge Computing (MEC)"
   ]
  },
  {
   "cell_type": "markdown",
   "metadata": {
    "pycharm": {
     "name": "#%% md\n"
    }
   },
   "source": [
    "## Dépendances\n",
    "Import des dépendances Python nécessaires au projet."
   ]
  },
  {
   "cell_type": "code",
   "execution_count": 1,
   "metadata": {
    "pycharm": {
     "name": "#%%\n"
    }
   },
   "outputs": [],
   "source": [
    "import numpy as np"
   ]
  },
  {
   "cell_type": "markdown",
   "metadata": {
    "pycharm": {
     "name": "#%% md\n"
    }
   },
   "source": [
    "## Dataset\n",
    "Cette partie décrit le dataset et les données utilisées pour répondre au problème décrit plus bas."
   ]
  },
  {
   "cell_type": "markdown",
   "metadata": {
    "pycharm": {
     "name": "#%% md\n"
    }
   },
   "source": [
    "## <p style=\"color:red;\">Partie à remplacer par le vrai dataset de Kaggle</p>"
   ]
  },
  {
   "cell_type": "markdown",
   "source": [
    "Données en fonction d’autres données :\n",
    "- $TE_m=TM_m+TW_m+TB_m$ le temps total de complétion d’une tâche $atn_m$\n",
    "- $TM_m$ \n",
    "- $TW_m$\n",
    "- $TB_m$\n",
    "- $msu_n$ la moyenne de l’utilisation du serveur $men_n$\n",
    "- $ZYS$ le compte total des VMs occupées (tous serveurs)\n",
    "- $MSU$ la variance de l’équilibre de charge des serveurs \n",
    "- $wnt_n$ le temps maximum de complétion d’une tâche par le serveur $men_n$\n",
    "- $ECB$ la consommation d’énergie pour un serveur $men_n$ en fonctionnement\n",
    "- $ECF$ la consommation pour toutes les VMs occupées\n",
    "- $ECK$ la consommation pour toutes les VMs inoccupées\n",
    "- $EC$ la consommation totale d’énergie par le set de serveurs $MEN$"
   ],
   "metadata": {
    "collapsed": false,
    "pycharm": {
     "name": "#%% md\n"
    }
   }
  },
  {
   "cell_type": "markdown",
   "source": [
    "#### Constantes pour le Load Balancing"
   ],
   "metadata": {
    "collapsed": false,
    "pycharm": {
     "name": "#%% md\n"
    }
   }
  },
  {
   "cell_type": "code",
   "execution_count": null,
   "outputs": [],
   "source": [
    "# taille des VMs découlent de la taille de la tâche.\n",
    "\n",
    "# nombre de VMs par serveurs déjà exprimé dans la RAS"
   ],
   "metadata": {
    "collapsed": false,
    "pycharm": {
     "name": "#%%\n"
    }
   }
  },
  {
   "cell_type": "markdown",
   "source": [
    "#### Constantes pour le temps de complétion des tâches\n",
    "<p style=\"color:red;\">Peut être à transformer en matrice pour que chaque tâche ait une taille différente...</p>"
   ],
   "metadata": {
    "collapsed": false,
    "pycharm": {
     "name": "#%% md\n"
    }
   }
  },
  {
   "cell_type": "code",
   "execution_count": null,
   "outputs": [],
   "source": [
    "# Taille de la tâche en unités de données\n",
    "G = 5  # = RG = GR\n",
    "wk = {0:0.75, 1:1.25, 2:0.3} # Bande passante selon le cas j = 0, 1, 2"
   ],
   "metadata": {
    "collapsed": false,
    "pycharm": {
     "name": "#%%\n"
    }
   }
  },
  {
   "cell_type": "markdown",
   "source": [
    "#### Constantes pour la consommation d'énergie"
   ],
   "metadata": {
    "collapsed": false,
    "pycharm": {
     "name": "#%% md\n"
    }
   }
  },
  {
   "cell_type": "code",
   "execution_count": null,
   "outputs": [],
   "source": [
    "# Constantes pour la consommation d'énergie\n",
    "rx = 0.2 # Wattage d'un serveur allumé\n",
    "rf = 0.125 # Wattage d'une VM occupée\n",
    "rn = 0.5 # Wattage d'une VM non occupée"
   ],
   "metadata": {
    "collapsed": false,
    "pycharm": {
     "name": "#%%\n"
    }
   }
  },
  {
   "cell_type": "markdown",
   "source": [
    "### Matrices/Opérateurs\n",
    "- Serveur $men_n$ occupé ou non (1/0) : $c(men_n)$\n",
    "- Tâche $atn_n$ lancée sur le serveur $men_m$ ou non (1/0) : $\\phi(atn_n)$"
   ],
   "metadata": {
    "collapsed": false,
    "pycharm": {
     "name": "#%% md\n"
    }
   }
  },
  {
   "cell_type": "code",
   "execution_count": null,
   "outputs": [],
   "source": [
    "# Opérateurs C, S et phi à implémenter\n",
    "C = 0 # 1 si le serveur est occupé ou 0 sinon\n",
    "phi = 0 # 1 si la vm tourne sur le serveur ou 0 sinon\n",
    "S = 5"
   ],
   "metadata": {
    "collapsed": false,
    "pycharm": {
     "name": "#%%\n"
    }
   }
  },
  {
   "cell_type": "markdown",
   "source": [
    "### Paramètres expérimentaux\n",
    ">On considère qu'une application ne génère qu'une seule tâche. Le nombre de tâches est donc directement corellé avec le nombre d'applications IoT."
   ],
   "metadata": {
    "collapsed": false,
    "pycharm": {
     "name": "#%% md\n"
    }
   }
  },
  {
   "cell_type": "code",
   "execution_count": null,
   "outputs": [],
   "source": [
    "# Paramètre de nombre d'applications IoT\n",
    "nb_app = [50, 100, 150, 200, 250]\n",
    "# Paramètre du nombre de VM par serveur MEC\n",
    "nb_vm = 8\n",
    "# Paramètre de la quantité de VM nécessaire par application\n",
    "nb_vm_app = [1,7]\n",
    "# Paramètre de la taille de la VM à exécuter\n",
    "size_vm ="
   ],
   "metadata": {
    "collapsed": false,
    "pycharm": {
     "name": "#%%\n"
    }
   }
  },
  {
   "cell_type": "markdown",
   "source": [
    "### RAS de départ"
   ],
   "metadata": {
    "collapsed": false,
    "pycharm": {
     "name": "#%% md\n"
    }
   }
  },
  {
   "cell_type": "code",
   "execution_count": null,
   "outputs": [],
   "source": [
    "# Wattage des serveurs\n",
    "pr_serv = 350\n",
    "# Wattage des VM occupées\n",
    "pr_ovm = 75\n",
    "# Wattage des VM inoccupées\n",
    "pr_uvm = 45"
   ],
   "metadata": {
    "collapsed": false,
    "pycharm": {
     "name": "#%%\n"
    }
   }
  },
  {
   "cell_type": "markdown",
   "source": [
    "## Définition du problème dans le code"
   ],
   "metadata": {
    "collapsed": false,
    "pycharm": {
     "name": "#%% md\n"
    }
   }
  },
  {
   "cell_type": "markdown",
   "source": [
    "### Définition des contraintes"
   ],
   "metadata": {
    "collapsed": false,
    "pycharm": {
     "name": "#%% md\n"
    }
   }
  },
  {
   "cell_type": "code",
   "execution_count": null,
   "outputs": [],
   "source": [
    "# def constraint1(x):\n",
    "#     # Le nombre de vm obtenue par iot ne doit pas exceder le nombre de machines inactive sur le serveur\n",
    "#     return np.array([np.sum(x[i::n_noeuds]) for i in range(n_taches)]) - 1\n",
    "#\n",
    "# def constraint2(x):\n",
    "#     # La capacité de traitement maximale de chaque nœud ne doit pas être dépassée\n",
    "#     return C - np.dot(w, x.reshape((n_taches, n_noeuds)))\n",
    "\n",
    "#Contraintes\n",
    "\n",
    "def c1_nbVM(position):\n",
    "    \"\"\"\n",
    "    Vérifie si le nombre de VMs actives par serveur MEC est inférieur ou égal à M.\n",
    "    Args:\n",
    "        variables: Un tableau contenant les valeurs des variables de décision.\n",
    "\n",
    "    Returns:\n",
    "        True si la contrainte est satisfaite, False sinon.\n",
    "    \"\"\"\n",
    "    # Décodage des variables\n",
    "    x = position\n",
    "    # Calcul du nombre de VMs actives par serveur MEC\n",
    "    nb_vms_par_serveur = np.sum(x.reshape((12, 72)), axis=1)\n",
    "    # Vérification de la contrainte\n",
    "    return np.all(nb_vms_par_serveur <= M)\n",
    "\n",
    "def c2_ressources(position):\n",
    "    \"\"\"\n",
    "    Vérifie si la charge de chaque serveur MEC est inférieure ou égale à sa capacité maximale.\n",
    "\n",
    "    Args:\n",
    "        variables: Un tableau contenant les valeurs des variables de décision.\n",
    "\n",
    "    Returns:\n",
    "        True si la contrainte est satisfaite, False sinon.\n",
    "    \"\"\"\n",
    "    # Décodage des variables\n",
    "    x = position\n",
    "    # Calcul de la charge de chaque serveur MEC\n",
    "    charge_serveur = np.dot(x, sigma)\n",
    "    # Vérification de la contrainte\n",
    "    return np.all(charge_serveur <= capacites_serveurs[men])"
   ],
   "metadata": {
    "collapsed": false,
    "pycharm": {
     "name": "#%%\n"
    }
   }
  },
  {
   "cell_type": "markdown",
   "source": [
    "### Définition des Fonctions Objectifs"
   ],
   "metadata": {
    "collapsed": false,
    "pycharm": {
     "name": "#%% md\n"
    }
   }
  },
  {
   "cell_type": "code",
   "execution_count": null,
   "outputs": [],
   "source": [
    "def f1_time(position):\n",
    "  \"\"\"\n",
    "  Calcule le temps de complétion total des tâches.\n",
    "\n",
    "  Args:\n",
    "    position: Un tableau contenant les valeurs des variables de décision.\n",
    "\n",
    "  Returns:\n",
    "    Le temps de complétion total (TE).\n",
    "  \"\"\"\n",
    "\n",
    "  # Décodage des variables\n",
    "  x = position  # Affectation des variables\n",
    "\n",
    "  # Calcul du temps de traitement (TM)\n",
    "  tm = 0\n",
    "  for j in range(3):\n",
    "    for m in range(72):\n",
    "      if j == 0:\n",
    "        tm += x[m] * G / wk[0]\n",
    "      elif j == 1:\n",
    "        tm += (x[m] * G / wk[0]) + (x[m] * G / wk[1])\n",
    "      elif j == 2:\n",
    "        tm += (x[m] * G / wk[0]) + (x[m] * G / wk[1]) + (x[m] * G / wk[2])\n",
    "\n",
    "  # Calcul du temps d'attente (TW)\n",
    "  tw = 0\n",
    "  for n in range(0, N):\n",
    "    tw += x[n] * (G * C) / S\n",
    "\n",
    "  # Calcul du temps de transfert (TB)\n",
    "  tb = 0\n",
    "  for j in range(3):\n",
    "    for m in range(72):\n",
    "      if j == 0:\n",
    "        tb += x[m] * G / wk[0]\n",
    "      elif j == 1:\n",
    "        tb += (x[m] * G / wk[0]) + (x[m] * G / wk[1])\n",
    "      elif j == 2:\n",
    "        tb += (x[m] * G / wk[0]) + (x[m] * G / wk[1]) + (x[m] * G / wk[2])\n",
    "\n",
    "  # Temps de complétion total\n",
    "  te = tm + tw + tb\n",
    "  return te\n",
    "\n",
    "#     return np.sum(position * demandes_taches * capacites_serveurs)\n",
    "def f2_energy(position):\n",
    "  \"\"\"\n",
    "  Calcule la consommation d'énergie totale des serveurs MEC.\n",
    "\n",
    "  Args:\n",
    "    position: Un tableau contenant les valeurs des variables de décision.\n",
    "\n",
    "  Returns:\n",
    "    La consommation d'énergie totale (EC).\n",
    "  \"\"\"\n",
    "  # Décodage des variables\n",
    "  wnt = position[:72]  # Puissance allouée aux tâches\n",
    "  atn = position[72:144]  # Type d'antenne utilisé pour chaque tâche\n",
    "\n",
    "  # Calcul de la consommation d'énergie de base (ECB)\n",
    "  ecb = 0\n",
    "  for i in range(0, N):\n",
    "    ecb += wnt[i] * rx\n",
    "\n",
    "  # Calcul de la consommation d'énergie liée au front-haul (ECF)\n",
    "  ecf = 0\n",
    "  for n in range(0, N):\n",
    "    for m in range(0, M):\n",
    "      ecf += phi[atn[m]] * wnt[n] * rf\n",
    "\n",
    "  # Calcul de la consommation d'énergie liée au backhaul (ECK)\n",
    "  eck = 0\n",
    "  eckm = eck\n",
    "  for n in range(0, N):\n",
    "    for m in range(0, M):\n",
    "      eckm += phi[atn[m]]\n",
    "    eck += (ZYS - eckm) * wnt[n] * rn\n",
    "\n",
    "  # Consommation d'énergie totale\n",
    "  ec = ecb + ecf + eck\n",
    "  return ec\n",
    "\n",
    "#     return np.max(np.sum(position * demandes_taches, axis=1))\n",
    "\n",
    "def f3_variance(position):\n",
    "  \"\"\"\n",
    "  Fonction objective pour le modèle d'équilibrage de charge.\n",
    "\n",
    "  Args:\n",
    "    position: Un tableau contenant les valeurs des variables de décision.\n",
    "\n",
    "  Retourne:\n",
    "    La variance de l'équilibrage de charge des serveurs MEC.\n",
    "  \"\"\"\n",
    "\n",
    "  # Calcul de msu\n",
    "  for n in range(0, nb_vm):\n",
    "    msu_n += phi * size_vm\n",
    "  msu = (1 / nb_vm) * msu_n\n",
    "\n",
    "  # Calcul de la charge totale du système\n",
    "  for n in range(0, N):\n",
    "    msu_sum += msu\n",
    "  ZYS = (1 / N) * msu_sum\n",
    "\n",
    "  # Calcul de la variance de l'équilibrage de charge\n",
    "  MSU = sum((msu - ZYS)**2) / N\n",
    "\n",
    "  return MSU"
   ],
   "metadata": {
    "collapsed": false,
    "pycharm": {
     "name": "#%%\n"
    }
   }
  },
  {
   "cell_type": "markdown",
   "source": [
    "## Implémentation de Firefly"
   ],
   "metadata": {
    "collapsed": false,
    "pycharm": {
     "name": "#%% md\n"
    }
   }
  },
  {
   "cell_type": "markdown",
   "source": [
    "### Paramètres de Firefly"
   ],
   "metadata": {
    "collapsed": false,
    "pycharm": {
     "name": "#%% md\n"
    }
   }
  },
  {
   "cell_type": "code",
   "execution_count": null,
   "outputs": [],
   "source": [
    "# Paramètres de l'algorithme Firefly\n",
    "alpha = 0.5  # Coefficient d'absorption\n",
    "beta = 0.2  # Coefficient de randomisation\n",
    "gamma = 1.0  # Facteur d'atténuation"
   ],
   "metadata": {
    "collapsed": false,
    "pycharm": {
     "name": "#%%\n"
    }
   }
  },
  {
   "cell_type": "markdown",
   "metadata": {
    "pycharm": {
     "name": "#%% md\n"
    }
   },
   "source": [
    "### Algorithme"
   ]
  },
  {
   "cell_type": "code",
   "execution_count": null,
   "metadata": {
    "pycharm": {
     "name": "#%%\n"
    }
   },
   "outputs": [],
   "source": [
    "def fitness(position, w1, w2, w3):\n",
    "\n",
    "  # Temps d'exécution\n",
    "  temps = f1_time(position)\n",
    "\n",
    "  # Consommation d'énergie\n",
    "  energie = f2_energy(position)\n",
    "\n",
    "  variance = f3_variance(position)\n",
    "\n",
    "  # Fonction multiobjectives pondérée (c'est comme ça qu'on rend firefly multi-objectif)\n",
    "  return w1 * energie + w2 * temps + w3 * variance\n",
    "\n",
    "\n",
    "constraints = [{'type': 'eq', 'fun': c1_nbVM},\n",
    "               {'type': 'ineq', 'fun': c2_ressources}]"
   ]
  },
  {
   "cell_type": "code",
   "execution_count": null,
   "metadata": {
    "pycharm": {
     "name": "#%%\n"
    }
   },
   "outputs": [],
   "source": [
    "def validation(position, n_serveurs, demandes_taches, capacites_serveurs, nb_vm_inactives):\n",
    "  # Contrainte de ressources\n",
    "  for i in range(n_serveurs):\n",
    "    if np.sum(position[:, i] * demandes_taches) > capacites_serveurs[i]:\n",
    "      return False\n",
    "\n",
    "  # Contrainte de VM\n",
    "  nb_vm_par_serveur = np.sum(position, axis=0)\n",
    "  for i in range(n_serveurs):\n",
    "    if nb_vm_par_serveur[i] > nb_vm_inactives[i]:\n",
    "      return False\n",
    "\n",
    "  return True\n"
   ]
  },
  {
   "cell_type": "code",
   "execution_count": null,
   "metadata": {
    "pycharm": {
     "name": "#%%\n"
    }
   },
   "outputs": [],
   "source": [
    "def firefly_algorithm(\n",
    "  n_taches,\n",
    "  n_serveurs,\n",
    "  capacites_serveurs,\n",
    "  demandes_taches,\n",
    "  nb_vm_inactives,\n",
    "  w1=1,\n",
    "  w2=1,\n",
    "  w3=1,\n",
    "  alpha,\n",
    "  beta,\n",
    "  gamma,\n",
    "  iterations\n",
    "  ):\n",
    "\n",
    "  \"\"\"\n",
    "  Fonction implémentant l'algorithme Firefly pour l'optimisation de l'allocation de VM.\n",
    "\n",
    "  Args:\n",
    "    n_taches: Nombre de tâches.\n",
    "    n_serveurs: Nombre de serveurs.\n",
    "    capacites_serveurs: Capacités des serveurs.\n",
    "    demandes_taches: Demandes des tâches.\n",
    "    nb_vm_inactives: Nombre de VM inactives par serveur.\n",
    "    w1: Poids de la consommation d'énergie.\n",
    "    w2: Poids du temps d'exécution.\n",
    "    w3: Poids du déséquilibre de charge.\n",
    "    alpha: Coefficient d'absorption.\n",
    "    beta: Coefficient de randomisation.\n",
    "    gamma: Facteur d'atténuation.\n",
    "    iterations: Nombre d'itérations.\n",
    "\n",
    "  Returns:\n",
    "    Meilleure position des lucioles et la meilleure valeur de la fonction d'objectif.\n",
    "  \"\"\"\n",
    "\n",
    "  # Initialisation des positions des lucioles\n",
    "  positions = np.random.randint(0, 2, size=(n_taches, n_serveurs))\n",
    "\n",
    "  # Initialisation des intensités des lucioles\n",
    "  intensities = np.zeros(n_taches)\n",
    "\n",
    "  for iteration in range(iterations):\n",
    "\n",
    "    # Mise à jour des intensités des lucioles\n",
    "    intensities = np.zeros(n_taches)\n",
    "    for i in range(n_taches):\n",
    "      if validation(positions[i], n_serveurs, demandes_taches, capacites_serveurs, nb_vm_inactives):\n",
    "        intensities[i] = fitness(positions[i])\n",
    "\n",
    "    # Mise à jour des positions des lucioles\n",
    "    for i in range(n_taches):\n",
    "      if validation(positions[i]):\n",
    "        for j in range(n_serveurs):\n",
    "          for k in range(n_taches):\n",
    "            if k != i and validation(positions[i]):\n",
    "              # Calcul de la distance entre les lucioles i et k\n",
    "              distance = np.linalg.norm(positions[i] - positions[k])\n",
    "\n",
    "              # Attraction vers la luciole la plus brillante\n",
    "              attraction = alpha * intensities[k] * np.exp(-gamma * distance**2)\n",
    "\n",
    "              # Perturbation aléatoire\n",
    "              perturbation = beta * np.random.rand()\n",
    "\n",
    "              # Mise à jour de la position de la luciole\n",
    "              positions[i][j] += attraction + perturbation\n",
    "\n",
    "  # Evaluation de la meilleure solution\n",
    "  best_position = positions[np.argmin(intensities)]\n",
    "  best_fitness = fitness(best_position, w1, w2, w3)\n",
    "\n",
    "  return best_position, best_fitness\n",
    "\n"
   ]
  }
 ],
 "metadata": {
  "kernelspec": {
   "display_name": "Python 3",
   "language": "python",
   "name": "python3"
  },
  "language_info": {
   "codemirror_mode": {
    "name": "ipython",
    "version": 3
   },
   "file_extension": ".py",
   "mimetype": "text/x-python",
   "name": "python",
   "nbconvert_exporter": "python",
   "pygments_lexer": "ipython3",
   "version": "3.11.8"
  }
 },
 "nbformat": 4,
 "nbformat_minor": 2
}