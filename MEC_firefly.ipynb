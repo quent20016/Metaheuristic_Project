{
 "cells": [
  {
   "cell_type": "markdown",
   "metadata": {
    "pycharm": {
     "name": "#%% md\n"
    }
   },
   "source": [
    "# Multi-Objective Resource Allocation Method for IoT applications in the context of Mobile Edge Computing (MEC)"
   ]
  },
  {
   "cell_type": "markdown",
   "metadata": {
    "pycharm": {
     "name": "#%% md\n"
    }
   },
   "source": [
    "## Dépendances\n",
    "Import des dépendances Python nécessaires au projet."
   ]
  },
  {
   "cell_type": "code",
   "execution_count": 1,
   "metadata": {
    "pycharm": {
     "name": "#%%\n"
    }
   },
   "outputs": [],
   "source": [
    "import numpy as np"
   ]
  },
  {
   "cell_type": "markdown",
   "metadata": {
    "pycharm": {
     "name": "#%% md\n"
    }
   },
   "source": [
    "## Dataset\n",
    "Cette partie décrit le dataset et les données utilisées pour répondre au problème décrit plus bas."
   ]
  },
  {
   "cell_type": "markdown",
   "metadata": {
    "pycharm": {
     "name": "#%% md\n"
    }
   },
   "source": [
    "## <p style=\"color:red;\">Partie à remplacer par le vrai dataset de Kaggle</p>"
   ]
  },
  {
   "cell_type": "code",
   "execution_count": null,
   "metadata": {
    "pycharm": {
     "is_executing": true,
     "name": "#%%\n"
    }
   },
   "outputs": [],
   "source": [
    "# Définition des variables\n",
    "n_taches = 100  # Nombre de tâches\n",
    "n_noeuds = 25  # Nombre de serveurs\n",
    "\n",
    "phi = np.random.rand(n_taches,n_noeuds)\n",
    "\n",
    "# Capacités de traitement maximales\n",
    "C = np.array([10, 12, 8, 15])\n",
    "\n",
    "# Puissance consommée par tâche\n",
    "P = np.random.rand(n_taches, n_noeuds)\n",
    "\n",
    "# Temps de processing par tâche\n",
    "t = np.random.rand(n_taches, n_noeuds)\n",
    "\n",
    "# Charge de travail par tâche\n",
    "w = np.random.rand(n_taches)\n",
    "\n",
    "# Paramètres de l'algorithme Firefly\n",
    "alpha = 0.5  # Coefficient d'absorption\n",
    "beta = 0.2  # Coefficient de randomisation\n",
    "gamma = 1.0  # Facteur d'atténuation\n",
    "\n",
    "# Variable pour fonction objectives\n",
    "rx = 0.2\n",
    "rf = 0.125\n",
    "rn = 0.5\n",
    "rg = 5\n",
    "ZYS = 3\n",
    "sigma = 5\n",
    "wk = {0:0.75, 1:1.25, 2:0.3, 3:1.5}\n",
    "p = 1\n",
    "q = 2\n",
    "r = 3\n",
    "\n",
    "g = 5\n",
    "M = 5"
   ]
  },
  {
   "cell_type": "markdown",
   "metadata": {},
   "source": [
    "### Paramètres expérimentaux"
   ]
  },
  {
   "cell_type": "code",
   "execution_count": null,
   "metadata": {},
   "outputs": [],
   "source": [
    "# Paramètre de nombre d'applications IoT\n",
    "nb_app = [50, 100, 150, 200, 250]\n",
    "# Paramètre du nombre de VM par serveur MEC\n",
    "nb_vm = 8\n",
    "# Paramètre de la quantité de VM nécessaire par application\n",
    "nb_vm_app = [1,7]"
   ]
  },
  {
   "cell_type": "markdown",
   "metadata": {},
   "source": [
    "### RAS de départ"
   ]
  },
  {
   "cell_type": "code",
   "execution_count": null,
   "metadata": {},
   "outputs": [],
   "source": [
    "# Wattage des serveurs\n",
    "pr_serv = 350\n",
    "# Wattage des VM occupées\n",
    "pr_ovm = 75\n",
    "# Wattage des VM inoccupées\n",
    "pr_uvm = 45"
   ]
  },
  {
   "cell_type": "markdown",
   "metadata": {
    "pycharm": {
     "name": "#%% md\n"
    }
   },
   "source": [
    "## Définition du problème dans le code"
   ]
  },
  {
   "cell_type": "markdown",
   "metadata": {
    "pycharm": {
     "name": "#%% md\n"
    }
   },
   "source": [
    "### Définition des contraintes"
   ]
  },
  {
   "cell_type": "code",
   "execution_count": null,
   "metadata": {
    "pycharm": {
     "name": "#%%\n"
    }
   },
   "outputs": [],
   "source": [
    "def constraint1(x):\n",
    "    # Le nombre de vm obtenue par iot ne doit pas exceder le nombre de machines inactive sur le serveur\n",
    "    return np.array([np.sum(x[i::n_noeuds]) for i in range(n_taches)]) - 1\n",
    "\n",
    "def constraint2(x):\n",
    "    # La capacité de traitement maximale de chaque nœud ne doit pas être dépassée\n",
    "    return C - np.dot(w, x.reshape((n_taches, n_noeuds)))"
   ]
  },
  {
   "cell_type": "markdown",
   "metadata": {
    "pycharm": {
     "name": "#%% md\n"
    }
   },
   "source": [
    "### Définition des Fonctions Objectifs"
   ]
  },
  {
   "cell_type": "code",
   "execution_count": null,
   "metadata": {
    "pycharm": {
     "name": "#%%\n"
    }
   },
   "outputs": [],
   "source": [
    "#     return np.sum(position * demandes_taches * capacites_serveurs)\n",
    "def f1_energy(position):\n",
    "  \"\"\"\n",
    "  Calcule la consommation d'énergie totale des serveurs MEC.\n",
    "\n",
    "  Args:\n",
    "    variables: Un tableau contenant les valeurs des variables de décision.\n",
    "\n",
    "  Returns:\n",
    "    La consommation d'énergie totale (EC).\n",
    "  \"\"\"\n",
    "  # Décodage des variables\n",
    "  wnt = position[:72]  # Puissance allouée aux tâches\n",
    "  atn = position[72:144]  # Type d'antenne utilisé pour chaque tâche\n",
    "  rn = position[144:]  # Débit de données pour chaque tâche\n",
    "  # Calcul de la consommation d'énergie de base (ECB)\n",
    "  ecb = 0\n",
    "  for i in range(72):\n",
    "    ecb += wnt[i] * rx\n",
    "  # Calcul de la consommation d'énergie liée au front-haul (ECF)\n",
    "  ecf = 0\n",
    "  for n in range(12):\n",
    "    for m in range(72):\n",
    "      ecf += wnt[m] * rf * phi[atn[m], n]\n",
    "  # Calcul de la consommation d'énergie liée au backhaul (ECK)\n",
    "  eck = 0\n",
    "  for n in range(12):\n",
    "    for m in range(72):\n",
    "      eck += (ZYS - sum(phi[atn[m], n] for atn in atn)) * wnt[m] * rn\n",
    "  # Consommation d'énergie totale\n",
    "  ec = ecb + ecf + eck\n",
    "  return ec\n",
    "\n",
    "#     return np.max(np.sum(position * demandes_taches, axis=1))\n",
    "\n",
    "def f2_time(position):\n",
    "  \"\"\"\n",
    "  Calcule le temps de complétion total des tâches.\n",
    "\n",
    "  Args:\n",
    "    variables: Un tableau contenant les valeurs des variables de décision.\n",
    "\n",
    "  Returns:\n",
    "    Le temps de complétion total (TE).\n",
    "  \"\"\"\n",
    "\n",
    "  # Décodage des variables\n",
    "  x = position  # Affectation des variables\n",
    "  # Calcul du temps de traitement (TM)\n",
    "  tm = 0\n",
    "  for j in range(3):\n",
    "    for m in range(72):\n",
    "      if j == 0:\n",
    "        tm += x[m] * g / wk[p]\n",
    "      elif j == 1:\n",
    "        tm += (x[m] * g / wk[p]) + (x[m] * g / wk[q])\n",
    "      else:\n",
    "        tm += (x[m] * g / wk[p]) + (x[m] * g / wk[q]) + (x[m] * g / wk[r])\n",
    "  # Calcul du temps d'attente (TW)\n",
    "  tw = 0\n",
    "  for n in range(12):\n",
    "    for m in range(72):\n",
    "      tw += x[m] * sum(1 / wk[p] for p in range(12) if p != n)\n",
    "  # Calcul du temps de transfert (TB)\n",
    "  tb = 0\n",
    "  for j in range(3):\n",
    "    for m in range(72):\n",
    "      if j == 0:\n",
    "        tb += x[m] * rg / wk[n]\n",
    "      elif j == 1:\n",
    "        tb += (x[m] * rg / wk[p]) + (x[m] * rg / wk[g])\n",
    "      else:\n",
    "        tb += (x[m] * rg / wk[p]) + (x[m] * rg / wk[q]) + (x[m] * rg / wk[r])\n",
    "  # Temps de complétion total\n",
    "  te = tm + tw + tb\n",
    "  return te\n"
   ]
  },
  {
   "cell_type": "code",
   "execution_count": null,
   "metadata": {
    "pycharm": {
     "name": "#%%\n"
    }
   },
   "outputs": [],
   "source": [
    "#Contraintes\n",
    "\n",
    "def c1_nbVM(position):\n",
    "    \"\"\"\n",
    "    Vérifie si le nombre de VMs actives par serveur MEC est inférieur ou égal à M.\n",
    "    Args:\n",
    "        variables: Un tableau contenant les valeurs des variables de décision.\n",
    "\n",
    "    Returns:\n",
    "        True si la contrainte est satisfaite, False sinon.\n",
    "    \"\"\"\n",
    "    # Décodage des variables\n",
    "    x = position\n",
    "    # Calcul du nombre de VMs actives par serveur MEC\n",
    "    nb_vms_par_serveur = np.sum(x.reshape((12, 72)), axis=1)\n",
    "    # Vérification de la contrainte\n",
    "    return np.all(nb_vms_par_serveur <= M)\n",
    "\n",
    "def c2_ressources(position):\n",
    "    \"\"\"\n",
    "    Vérifie si la charge de chaque serveur MEC est inférieure ou égale à sa capacité maximale.\n",
    "\n",
    "    Args:\n",
    "        variables: Un tableau contenant les valeurs des variables de décision.\n",
    "\n",
    "    Returns:\n",
    "        True si la contrainte est satisfaite, False sinon.\n",
    "    \"\"\"\n",
    "    # Décodage des variables\n",
    "    x = position\n",
    "    # Calcul de la charge de chaque serveur MEC\n",
    "    charge_serveur = np.dot(x, sigma)\n",
    "    # Vérification de la contrainte\n",
    "    return np.all(charge_serveur <= capacites_serveurs[men])\n"
   ]
  },
  {
   "cell_type": "code",
   "execution_count": null,
   "metadata": {
    "pycharm": {
     "name": "#%%\n"
    }
   },
   "outputs": [],
   "source": [
    "def fitness(position, w1, w2):\n",
    "  # Consommation d'énergie\n",
    "  energie = f1_energy(position)\n",
    "\n",
    "  # Temps d'exécution\n",
    "  temps = f2_time(position)\n",
    "\n",
    "  # Fonction multiobjectives pondérée (c'est comme ça qu'on rend firefly multi-objectif)\n",
    "  return w1 * energie + w2 * temps\n",
    "\n",
    "\n",
    "constraints = [{'type': 'eq', 'fun': c1_nbVM},\n",
    "               {'type': 'ineq', 'fun': c2_ressources}]"
   ]
  },
  {
   "cell_type": "code",
   "execution_count": null,
   "metadata": {
    "pycharm": {
     "name": "#%%\n"
    }
   },
   "outputs": [],
   "source": [
    "def validation(position, n_serveurs, demandes_taches, capacites_serveurs, nb_vm_inactives):\n",
    "  # Contrainte de ressources\n",
    "  for i in range(n_serveurs):\n",
    "    if np.sum(position[:, i] * demandes_taches) > capacites_serveurs[i]:\n",
    "      return False\n",
    "\n",
    "  # Contrainte de VM\n",
    "  nb_vm_par_serveur = np.sum(position, axis=0)\n",
    "  for i in range(n_serveurs):\n",
    "    if nb_vm_par_serveur[i] > nb_vm_inactives[i]:\n",
    "      return False\n",
    "\n",
    "  return True\n"
   ]
  },
  {
   "cell_type": "code",
   "execution_count": null,
   "metadata": {
    "pycharm": {
     "name": "#%%\n"
    }
   },
   "outputs": [],
   "source": [
    "def firefly_algorithm(\n",
    "  n_taches,\n",
    "  n_serveurs,\n",
    "  capacites_serveurs,\n",
    "  demandes_taches,\n",
    "  nb_vm_inactives,\n",
    "  w1=1,\n",
    "  w2=1,\n",
    "  w3=1,\n",
    "  alpha,\n",
    "  beta,\n",
    "  gamma,\n",
    "  iterations\n",
    "  ):\n",
    "\n",
    "  \"\"\"\n",
    "  Fonction implémentant l'algorithme Firefly pour l'optimisation de l'allocation de VM.\n",
    "\n",
    "  Args:\n",
    "    n_taches: Nombre de tâches.\n",
    "    n_serveurs: Nombre de serveurs.\n",
    "    capacites_serveurs: Capacités des serveurs.\n",
    "    demandes_taches: Demandes des tâches.\n",
    "    nb_vm_inactives: Nombre de VM inactives par serveur.\n",
    "    w1: Poids de la consommation d'énergie.\n",
    "    w2: Poids du temps d'exécution.\n",
    "    w3: Poids du déséquilibre de charge.\n",
    "    alpha: Coefficient d'absorption.\n",
    "    beta: Coefficient de randomisation.\n",
    "    gamma: Facteur d'atténuation.\n",
    "    iterations: Nombre d'itérations.\n",
    "\n",
    "  Returns:\n",
    "    Meilleure position des lucioles et la meilleure valeur de la fonction d'objectif.\n",
    "  \"\"\"\n",
    "\n",
    "  # Initialisation des positions des lucioles\n",
    "  positions = np.random.randint(0, 2, size=(n_taches, n_serveurs))\n",
    "\n",
    "  # Initialisation des intensités des lucioles\n",
    "  intensities = np.zeros(n_taches)\n",
    "\n",
    "  for iteration in range(iterations):\n",
    "\n",
    "    # Mise à jour des intensités des lucioles\n",
    "    intensities = np.zeros(n_taches)\n",
    "    for i in range(n_taches):\n",
    "      if validation(positions[i], n_serveurs, demandes_taches, capacites_serveurs, nb_vm_inactives):\n",
    "        intensities[i] = fitness(positions[i])\n",
    "\n",
    "    # Mise à jour des positions des lucioles\n",
    "    for i in range(n_taches):\n",
    "      if validation(positions[i]):\n",
    "        for j in range(n_serveurs):\n",
    "          for k in range(n_taches):\n",
    "            if k != i and validation(positions[i]):\n",
    "              # Calcul de la distance entre les lucioles i et k\n",
    "              distance = np.linalg.norm(positions[i] - positions[k])\n",
    "\n",
    "              # Attraction vers la luciole la plus brillante\n",
    "              attraction = alpha * intensities[k] * np.exp(-gamma * distance**2)\n",
    "\n",
    "              # Perturbation aléatoire\n",
    "              perturbation = beta * np.random.rand()\n",
    "\n",
    "              # Mise à jour de la position de la luciole\n",
    "              positions[i][j] += attraction + perturbation\n",
    "\n",
    "  # Evaluation de la meilleure solution\n",
    "  best_position = positions[np.argmin(intensities)]\n",
    "  best_fitness = fitness(best_position)\n",
    "\n",
    "  return best_position, best_fitness\n",
    "\n"
   ]
  }
 ],
 "metadata": {
  "kernelspec": {
   "display_name": "Python 3",
   "language": "python",
   "name": "python3"
  },
  "language_info": {
   "codemirror_mode": {
    "name": "ipython",
    "version": 3
   },
   "file_extension": ".py",
   "mimetype": "text/x-python",
   "name": "python",
   "nbconvert_exporter": "python",
   "pygments_lexer": "ipython3",
   "version": "3.11.8"
  }
 },
 "nbformat": 4,
 "nbformat_minor": 2
}
